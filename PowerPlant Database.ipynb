{
 "cells": [
  {
   "cell_type": "code",
   "execution_count": 1,
   "id": "14ae17c3",
   "metadata": {},
   "outputs": [],
   "source": [
    "import pandas as pd\n",
    "import numpy as np\n",
    "import matplotlib.pyplot as plt\n",
    "import seaborn as sns\n",
    "import warnings\n",
    "warnings.filterwarnings('ignore')"
   ]
  },
  {
   "cell_type": "code",
   "execution_count": 2,
   "id": "1d5aa6f3",
   "metadata": {},
   "outputs": [
    {
     "data": {
      "text/html": [
       "<div>\n",
       "<style scoped>\n",
       "    .dataframe tbody tr th:only-of-type {\n",
       "        vertical-align: middle;\n",
       "    }\n",
       "\n",
       "    .dataframe tbody tr th {\n",
       "        vertical-align: top;\n",
       "    }\n",
       "\n",
       "    .dataframe thead th {\n",
       "        text-align: right;\n",
       "    }\n",
       "</style>\n",
       "<table border=\"1\" class=\"dataframe\">\n",
       "  <thead>\n",
       "    <tr style=\"text-align: right;\">\n",
       "      <th></th>\n",
       "      <th>country</th>\n",
       "      <th>country_long</th>\n",
       "      <th>name</th>\n",
       "      <th>gppd_idnr</th>\n",
       "      <th>capacity_mw</th>\n",
       "      <th>latitude</th>\n",
       "      <th>longitude</th>\n",
       "      <th>primary_fuel</th>\n",
       "      <th>other_fuel1</th>\n",
       "      <th>other_fuel2</th>\n",
       "      <th>...</th>\n",
       "      <th>year_of_capacity_data</th>\n",
       "      <th>generation_gwh_2013</th>\n",
       "      <th>generation_gwh_2014</th>\n",
       "      <th>generation_gwh_2015</th>\n",
       "      <th>generation_gwh_2016</th>\n",
       "      <th>generation_gwh_2017</th>\n",
       "      <th>generation_gwh_2018</th>\n",
       "      <th>generation_gwh_2019</th>\n",
       "      <th>generation_data_source</th>\n",
       "      <th>estimated_generation_gwh</th>\n",
       "    </tr>\n",
       "  </thead>\n",
       "  <tbody>\n",
       "    <tr>\n",
       "      <th>0</th>\n",
       "      <td>IND</td>\n",
       "      <td>India</td>\n",
       "      <td>ACME Solar Tower</td>\n",
       "      <td>WRI1020239</td>\n",
       "      <td>2.5</td>\n",
       "      <td>28.1839</td>\n",
       "      <td>73.2407</td>\n",
       "      <td>Solar</td>\n",
       "      <td>NaN</td>\n",
       "      <td>NaN</td>\n",
       "      <td>...</td>\n",
       "      <td>NaN</td>\n",
       "      <td>NaN</td>\n",
       "      <td>NaN</td>\n",
       "      <td>NaN</td>\n",
       "      <td>NaN</td>\n",
       "      <td>NaN</td>\n",
       "      <td>NaN</td>\n",
       "      <td>NaN</td>\n",
       "      <td>NaN</td>\n",
       "      <td>NaN</td>\n",
       "    </tr>\n",
       "    <tr>\n",
       "      <th>1</th>\n",
       "      <td>IND</td>\n",
       "      <td>India</td>\n",
       "      <td>ADITYA CEMENT WORKS</td>\n",
       "      <td>WRI1019881</td>\n",
       "      <td>98.0</td>\n",
       "      <td>24.7663</td>\n",
       "      <td>74.6090</td>\n",
       "      <td>Coal</td>\n",
       "      <td>NaN</td>\n",
       "      <td>NaN</td>\n",
       "      <td>...</td>\n",
       "      <td>NaN</td>\n",
       "      <td>NaN</td>\n",
       "      <td>NaN</td>\n",
       "      <td>NaN</td>\n",
       "      <td>NaN</td>\n",
       "      <td>NaN</td>\n",
       "      <td>NaN</td>\n",
       "      <td>NaN</td>\n",
       "      <td>NaN</td>\n",
       "      <td>NaN</td>\n",
       "    </tr>\n",
       "    <tr>\n",
       "      <th>2</th>\n",
       "      <td>IND</td>\n",
       "      <td>India</td>\n",
       "      <td>AES Saurashtra Windfarms</td>\n",
       "      <td>WRI1026669</td>\n",
       "      <td>39.2</td>\n",
       "      <td>21.9038</td>\n",
       "      <td>69.3732</td>\n",
       "      <td>Wind</td>\n",
       "      <td>NaN</td>\n",
       "      <td>NaN</td>\n",
       "      <td>...</td>\n",
       "      <td>NaN</td>\n",
       "      <td>NaN</td>\n",
       "      <td>NaN</td>\n",
       "      <td>NaN</td>\n",
       "      <td>NaN</td>\n",
       "      <td>NaN</td>\n",
       "      <td>NaN</td>\n",
       "      <td>NaN</td>\n",
       "      <td>NaN</td>\n",
       "      <td>NaN</td>\n",
       "    </tr>\n",
       "    <tr>\n",
       "      <th>3</th>\n",
       "      <td>IND</td>\n",
       "      <td>India</td>\n",
       "      <td>AGARTALA GT</td>\n",
       "      <td>IND0000001</td>\n",
       "      <td>135.0</td>\n",
       "      <td>23.8712</td>\n",
       "      <td>91.3602</td>\n",
       "      <td>Gas</td>\n",
       "      <td>NaN</td>\n",
       "      <td>NaN</td>\n",
       "      <td>...</td>\n",
       "      <td>2019.0</td>\n",
       "      <td>NaN</td>\n",
       "      <td>617.789264</td>\n",
       "      <td>843.747000</td>\n",
       "      <td>886.004428</td>\n",
       "      <td>663.774500</td>\n",
       "      <td>626.239128</td>\n",
       "      <td>NaN</td>\n",
       "      <td>Central Electricity Authority</td>\n",
       "      <td>NaN</td>\n",
       "    </tr>\n",
       "    <tr>\n",
       "      <th>4</th>\n",
       "      <td>IND</td>\n",
       "      <td>India</td>\n",
       "      <td>AKALTARA TPP</td>\n",
       "      <td>IND0000002</td>\n",
       "      <td>1800.0</td>\n",
       "      <td>21.9603</td>\n",
       "      <td>82.4091</td>\n",
       "      <td>Coal</td>\n",
       "      <td>Oil</td>\n",
       "      <td>NaN</td>\n",
       "      <td>...</td>\n",
       "      <td>2019.0</td>\n",
       "      <td>NaN</td>\n",
       "      <td>3035.550000</td>\n",
       "      <td>5916.370000</td>\n",
       "      <td>6243.000000</td>\n",
       "      <td>5385.579736</td>\n",
       "      <td>7279.000000</td>\n",
       "      <td>NaN</td>\n",
       "      <td>Central Electricity Authority</td>\n",
       "      <td>NaN</td>\n",
       "    </tr>\n",
       "    <tr>\n",
       "      <th>...</th>\n",
       "      <td>...</td>\n",
       "      <td>...</td>\n",
       "      <td>...</td>\n",
       "      <td>...</td>\n",
       "      <td>...</td>\n",
       "      <td>...</td>\n",
       "      <td>...</td>\n",
       "      <td>...</td>\n",
       "      <td>...</td>\n",
       "      <td>...</td>\n",
       "      <td>...</td>\n",
       "      <td>...</td>\n",
       "      <td>...</td>\n",
       "      <td>...</td>\n",
       "      <td>...</td>\n",
       "      <td>...</td>\n",
       "      <td>...</td>\n",
       "      <td>...</td>\n",
       "      <td>...</td>\n",
       "      <td>...</td>\n",
       "      <td>...</td>\n",
       "    </tr>\n",
       "    <tr>\n",
       "      <th>902</th>\n",
       "      <td>IND</td>\n",
       "      <td>India</td>\n",
       "      <td>YERMARUS TPP</td>\n",
       "      <td>IND0000513</td>\n",
       "      <td>1600.0</td>\n",
       "      <td>16.2949</td>\n",
       "      <td>77.3568</td>\n",
       "      <td>Coal</td>\n",
       "      <td>Oil</td>\n",
       "      <td>NaN</td>\n",
       "      <td>...</td>\n",
       "      <td>2019.0</td>\n",
       "      <td>NaN</td>\n",
       "      <td>NaN</td>\n",
       "      <td>0.994875</td>\n",
       "      <td>233.596650</td>\n",
       "      <td>865.400000</td>\n",
       "      <td>686.500000</td>\n",
       "      <td>NaN</td>\n",
       "      <td>Central Electricity Authority</td>\n",
       "      <td>NaN</td>\n",
       "    </tr>\n",
       "    <tr>\n",
       "      <th>903</th>\n",
       "      <td>IND</td>\n",
       "      <td>India</td>\n",
       "      <td>Yelesandra Solar Power Plant</td>\n",
       "      <td>WRI1026222</td>\n",
       "      <td>3.0</td>\n",
       "      <td>12.8932</td>\n",
       "      <td>78.1654</td>\n",
       "      <td>Solar</td>\n",
       "      <td>NaN</td>\n",
       "      <td>NaN</td>\n",
       "      <td>...</td>\n",
       "      <td>NaN</td>\n",
       "      <td>NaN</td>\n",
       "      <td>NaN</td>\n",
       "      <td>NaN</td>\n",
       "      <td>NaN</td>\n",
       "      <td>NaN</td>\n",
       "      <td>NaN</td>\n",
       "      <td>NaN</td>\n",
       "      <td>NaN</td>\n",
       "      <td>NaN</td>\n",
       "    </tr>\n",
       "    <tr>\n",
       "      <th>904</th>\n",
       "      <td>IND</td>\n",
       "      <td>India</td>\n",
       "      <td>Yelisirur wind power project</td>\n",
       "      <td>WRI1026776</td>\n",
       "      <td>25.5</td>\n",
       "      <td>15.2758</td>\n",
       "      <td>75.5811</td>\n",
       "      <td>Wind</td>\n",
       "      <td>NaN</td>\n",
       "      <td>NaN</td>\n",
       "      <td>...</td>\n",
       "      <td>NaN</td>\n",
       "      <td>NaN</td>\n",
       "      <td>NaN</td>\n",
       "      <td>NaN</td>\n",
       "      <td>NaN</td>\n",
       "      <td>NaN</td>\n",
       "      <td>NaN</td>\n",
       "      <td>NaN</td>\n",
       "      <td>NaN</td>\n",
       "      <td>NaN</td>\n",
       "    </tr>\n",
       "    <tr>\n",
       "      <th>905</th>\n",
       "      <td>IND</td>\n",
       "      <td>India</td>\n",
       "      <td>ZAWAR MINES</td>\n",
       "      <td>WRI1019901</td>\n",
       "      <td>80.0</td>\n",
       "      <td>24.3500</td>\n",
       "      <td>73.7477</td>\n",
       "      <td>Coal</td>\n",
       "      <td>NaN</td>\n",
       "      <td>NaN</td>\n",
       "      <td>...</td>\n",
       "      <td>NaN</td>\n",
       "      <td>NaN</td>\n",
       "      <td>NaN</td>\n",
       "      <td>NaN</td>\n",
       "      <td>NaN</td>\n",
       "      <td>NaN</td>\n",
       "      <td>NaN</td>\n",
       "      <td>NaN</td>\n",
       "      <td>NaN</td>\n",
       "      <td>NaN</td>\n",
       "    </tr>\n",
       "    <tr>\n",
       "      <th>906</th>\n",
       "      <td>IND</td>\n",
       "      <td>India</td>\n",
       "      <td>iEnergy Theni Wind Farm</td>\n",
       "      <td>WRI1026761</td>\n",
       "      <td>16.5</td>\n",
       "      <td>9.9344</td>\n",
       "      <td>77.4768</td>\n",
       "      <td>Wind</td>\n",
       "      <td>NaN</td>\n",
       "      <td>NaN</td>\n",
       "      <td>...</td>\n",
       "      <td>NaN</td>\n",
       "      <td>NaN</td>\n",
       "      <td>NaN</td>\n",
       "      <td>NaN</td>\n",
       "      <td>NaN</td>\n",
       "      <td>NaN</td>\n",
       "      <td>NaN</td>\n",
       "      <td>NaN</td>\n",
       "      <td>NaN</td>\n",
       "      <td>NaN</td>\n",
       "    </tr>\n",
       "  </tbody>\n",
       "</table>\n",
       "<p>907 rows × 27 columns</p>\n",
       "</div>"
      ],
      "text/plain": [
       "    country country_long                          name   gppd_idnr  \\\n",
       "0       IND        India              ACME Solar Tower  WRI1020239   \n",
       "1       IND        India           ADITYA CEMENT WORKS  WRI1019881   \n",
       "2       IND        India      AES Saurashtra Windfarms  WRI1026669   \n",
       "3       IND        India                   AGARTALA GT  IND0000001   \n",
       "4       IND        India                  AKALTARA TPP  IND0000002   \n",
       "..      ...          ...                           ...         ...   \n",
       "902     IND        India                  YERMARUS TPP  IND0000513   \n",
       "903     IND        India  Yelesandra Solar Power Plant  WRI1026222   \n",
       "904     IND        India  Yelisirur wind power project  WRI1026776   \n",
       "905     IND        India                   ZAWAR MINES  WRI1019901   \n",
       "906     IND        India       iEnergy Theni Wind Farm  WRI1026761   \n",
       "\n",
       "     capacity_mw  latitude  longitude primary_fuel other_fuel1 other_fuel2  \\\n",
       "0            2.5   28.1839    73.2407        Solar         NaN         NaN   \n",
       "1           98.0   24.7663    74.6090         Coal         NaN         NaN   \n",
       "2           39.2   21.9038    69.3732         Wind         NaN         NaN   \n",
       "3          135.0   23.8712    91.3602          Gas         NaN         NaN   \n",
       "4         1800.0   21.9603    82.4091         Coal         Oil         NaN   \n",
       "..           ...       ...        ...          ...         ...         ...   \n",
       "902       1600.0   16.2949    77.3568         Coal         Oil         NaN   \n",
       "903          3.0   12.8932    78.1654        Solar         NaN         NaN   \n",
       "904         25.5   15.2758    75.5811         Wind         NaN         NaN   \n",
       "905         80.0   24.3500    73.7477         Coal         NaN         NaN   \n",
       "906         16.5    9.9344    77.4768         Wind         NaN         NaN   \n",
       "\n",
       "     ...  year_of_capacity_data  generation_gwh_2013 generation_gwh_2014  \\\n",
       "0    ...                    NaN                  NaN                 NaN   \n",
       "1    ...                    NaN                  NaN                 NaN   \n",
       "2    ...                    NaN                  NaN                 NaN   \n",
       "3    ...                 2019.0                  NaN          617.789264   \n",
       "4    ...                 2019.0                  NaN         3035.550000   \n",
       "..   ...                    ...                  ...                 ...   \n",
       "902  ...                 2019.0                  NaN                 NaN   \n",
       "903  ...                    NaN                  NaN                 NaN   \n",
       "904  ...                    NaN                  NaN                 NaN   \n",
       "905  ...                    NaN                  NaN                 NaN   \n",
       "906  ...                    NaN                  NaN                 NaN   \n",
       "\n",
       "    generation_gwh_2015 generation_gwh_2016 generation_gwh_2017  \\\n",
       "0                   NaN                 NaN                 NaN   \n",
       "1                   NaN                 NaN                 NaN   \n",
       "2                   NaN                 NaN                 NaN   \n",
       "3            843.747000          886.004428          663.774500   \n",
       "4           5916.370000         6243.000000         5385.579736   \n",
       "..                  ...                 ...                 ...   \n",
       "902            0.994875          233.596650          865.400000   \n",
       "903                 NaN                 NaN                 NaN   \n",
       "904                 NaN                 NaN                 NaN   \n",
       "905                 NaN                 NaN                 NaN   \n",
       "906                 NaN                 NaN                 NaN   \n",
       "\n",
       "     generation_gwh_2018  generation_gwh_2019         generation_data_source  \\\n",
       "0                    NaN                  NaN                            NaN   \n",
       "1                    NaN                  NaN                            NaN   \n",
       "2                    NaN                  NaN                            NaN   \n",
       "3             626.239128                  NaN  Central Electricity Authority   \n",
       "4            7279.000000                  NaN  Central Electricity Authority   \n",
       "..                   ...                  ...                            ...   \n",
       "902           686.500000                  NaN  Central Electricity Authority   \n",
       "903                  NaN                  NaN                            NaN   \n",
       "904                  NaN                  NaN                            NaN   \n",
       "905                  NaN                  NaN                            NaN   \n",
       "906                  NaN                  NaN                            NaN   \n",
       "\n",
       "     estimated_generation_gwh  \n",
       "0                         NaN  \n",
       "1                         NaN  \n",
       "2                         NaN  \n",
       "3                         NaN  \n",
       "4                         NaN  \n",
       "..                        ...  \n",
       "902                       NaN  \n",
       "903                       NaN  \n",
       "904                       NaN  \n",
       "905                       NaN  \n",
       "906                       NaN  \n",
       "\n",
       "[907 rows x 27 columns]"
      ]
     },
     "execution_count": 2,
     "metadata": {},
     "output_type": "execute_result"
    }
   ],
   "source": [
    "df=pd.read_csv(\"https://raw.githubusercontent.com/wri/global-power-plant-database/master/source_databases_csv/database_IND.csv\")\n",
    "df"
   ]
  },
  {
   "cell_type": "markdown",
   "id": "95ae6b34",
   "metadata": {},
   "source": [
    "primary furl is the target variable in the above data "
   ]
  },
  {
   "cell_type": "code",
   "execution_count": 3,
   "id": "706c8911",
   "metadata": {},
   "outputs": [
    {
     "data": {
      "text/plain": [
       "(907, 27)"
      ]
     },
     "execution_count": 3,
     "metadata": {},
     "output_type": "execute_result"
    }
   ],
   "source": [
    "df.shape"
   ]
  },
  {
   "cell_type": "code",
   "execution_count": 4,
   "id": "fd4e82ef",
   "metadata": {},
   "outputs": [
    {
     "data": {
      "text/plain": [
       "country                       0\n",
       "country_long                  0\n",
       "name                          0\n",
       "gppd_idnr                     0\n",
       "capacity_mw                   0\n",
       "latitude                     46\n",
       "longitude                    46\n",
       "primary_fuel                  0\n",
       "other_fuel1                 709\n",
       "other_fuel2                 906\n",
       "other_fuel3                 907\n",
       "commissioning_year          380\n",
       "owner                       565\n",
       "source                        0\n",
       "url                           0\n",
       "geolocation_source           19\n",
       "wepp_id                     907\n",
       "year_of_capacity_data       388\n",
       "generation_gwh_2013         907\n",
       "generation_gwh_2014         509\n",
       "generation_gwh_2015         485\n",
       "generation_gwh_2016         473\n",
       "generation_gwh_2017         467\n",
       "generation_gwh_2018         459\n",
       "generation_gwh_2019         907\n",
       "generation_data_source      458\n",
       "estimated_generation_gwh    907\n",
       "dtype: int64"
      ]
     },
     "execution_count": 4,
     "metadata": {},
     "output_type": "execute_result"
    }
   ],
   "source": [
    "df.isna().sum()"
   ]
  },
  {
   "cell_type": "code",
   "execution_count": 5,
   "id": "e16ee015",
   "metadata": {},
   "outputs": [
    {
     "data": {
      "text/plain": [
       "Index(['country', 'country_long', 'name', 'gppd_idnr', 'capacity_mw',\n",
       "       'latitude', 'longitude', 'primary_fuel', 'other_fuel1', 'other_fuel2',\n",
       "       'other_fuel3', 'commissioning_year', 'owner', 'source', 'url',\n",
       "       'geolocation_source', 'wepp_id', 'year_of_capacity_data',\n",
       "       'generation_gwh_2013', 'generation_gwh_2014', 'generation_gwh_2015',\n",
       "       'generation_gwh_2016', 'generation_gwh_2017', 'generation_gwh_2018',\n",
       "       'generation_gwh_2019', 'generation_data_source',\n",
       "       'estimated_generation_gwh'],\n",
       "      dtype='object')"
      ]
     },
     "execution_count": 5,
     "metadata": {},
     "output_type": "execute_result"
    }
   ],
   "source": [
    "df.columns"
   ]
  },
  {
   "cell_type": "code",
   "execution_count": 6,
   "id": "81c9e4c6",
   "metadata": {},
   "outputs": [
    {
     "name": "stdout",
     "output_type": "stream",
     "text": [
      "<class 'pandas.core.frame.DataFrame'>\n",
      "RangeIndex: 907 entries, 0 to 906\n",
      "Data columns (total 27 columns):\n",
      " #   Column                    Non-Null Count  Dtype  \n",
      "---  ------                    --------------  -----  \n",
      " 0   country                   907 non-null    object \n",
      " 1   country_long              907 non-null    object \n",
      " 2   name                      907 non-null    object \n",
      " 3   gppd_idnr                 907 non-null    object \n",
      " 4   capacity_mw               907 non-null    float64\n",
      " 5   latitude                  861 non-null    float64\n",
      " 6   longitude                 861 non-null    float64\n",
      " 7   primary_fuel              907 non-null    object \n",
      " 8   other_fuel1               198 non-null    object \n",
      " 9   other_fuel2               1 non-null      object \n",
      " 10  other_fuel3               0 non-null      float64\n",
      " 11  commissioning_year        527 non-null    float64\n",
      " 12  owner                     342 non-null    object \n",
      " 13  source                    907 non-null    object \n",
      " 14  url                       907 non-null    object \n",
      " 15  geolocation_source        888 non-null    object \n",
      " 16  wepp_id                   0 non-null      float64\n",
      " 17  year_of_capacity_data     519 non-null    float64\n",
      " 18  generation_gwh_2013       0 non-null      float64\n",
      " 19  generation_gwh_2014       398 non-null    float64\n",
      " 20  generation_gwh_2015       422 non-null    float64\n",
      " 21  generation_gwh_2016       434 non-null    float64\n",
      " 22  generation_gwh_2017       440 non-null    float64\n",
      " 23  generation_gwh_2018       448 non-null    float64\n",
      " 24  generation_gwh_2019       0 non-null      float64\n",
      " 25  generation_data_source    449 non-null    object \n",
      " 26  estimated_generation_gwh  0 non-null      float64\n",
      "dtypes: float64(15), object(12)\n",
      "memory usage: 191.4+ KB\n"
     ]
    }
   ],
   "source": [
    "df.info()"
   ]
  },
  {
   "cell_type": "code",
   "execution_count": 7,
   "id": "8e3901dd",
   "metadata": {},
   "outputs": [
    {
     "data": {
      "text/plain": [
       "<bound method Series.to_frame of country                       1\n",
       "country_long                  1\n",
       "name                        907\n",
       "gppd_idnr                   907\n",
       "capacity_mw                 361\n",
       "latitude                    836\n",
       "longitude                   827\n",
       "primary_fuel                  8\n",
       "other_fuel1                   3\n",
       "other_fuel2                   1\n",
       "other_fuel3                   0\n",
       "commissioning_year           73\n",
       "owner                       280\n",
       "source                      191\n",
       "url                         304\n",
       "geolocation_source            3\n",
       "wepp_id                       0\n",
       "year_of_capacity_data         1\n",
       "generation_gwh_2013           0\n",
       "generation_gwh_2014         371\n",
       "generation_gwh_2015         396\n",
       "generation_gwh_2016         403\n",
       "generation_gwh_2017         408\n",
       "generation_gwh_2018         410\n",
       "generation_gwh_2019           0\n",
       "generation_data_source        1\n",
       "estimated_generation_gwh      0\n",
       "dtype: int64>"
      ]
     },
     "execution_count": 7,
     "metadata": {},
     "output_type": "execute_result"
    }
   ],
   "source": [
    "df.nunique().to_frame"
   ]
  },
  {
   "cell_type": "code",
   "execution_count": 8,
   "id": "6d03b023",
   "metadata": {},
   "outputs": [
    {
     "data": {
      "text/plain": [
       "array([nan, 'Oil'], dtype=object)"
      ]
     },
     "execution_count": 8,
     "metadata": {},
     "output_type": "execute_result"
    }
   ],
   "source": [
    "df['other_fuel2'].unique()"
   ]
  },
  {
   "cell_type": "code",
   "execution_count": 9,
   "id": "57c7cade",
   "metadata": {},
   "outputs": [
    {
     "data": {
      "text/plain": [
       "array([nan])"
      ]
     },
     "execution_count": 9,
     "metadata": {},
     "output_type": "execute_result"
    }
   ],
   "source": [
    "df['other_fuel3'].unique()"
   ]
  },
  {
   "cell_type": "code",
   "execution_count": 10,
   "id": "e6cabe2f",
   "metadata": {},
   "outputs": [
    {
     "data": {
      "text/plain": [
       "array([nan, 'Oil', 'Cogeneration', 'Gas'], dtype=object)"
      ]
     },
     "execution_count": 10,
     "metadata": {},
     "output_type": "execute_result"
    }
   ],
   "source": [
    "df['other_fuel1'].unique()"
   ]
  },
  {
   "cell_type": "code",
   "execution_count": 11,
   "id": "0d8eabdc",
   "metadata": {},
   "outputs": [
    {
     "data": {
      "text/plain": [
       "array(['National Renewable Energy Laboratory', 'WRI', nan,\n",
       "       'Industry About'], dtype=object)"
      ]
     },
     "execution_count": 11,
     "metadata": {},
     "output_type": "execute_result"
    }
   ],
   "source": [
    "df['geolocation_source'].unique()"
   ]
  },
  {
   "cell_type": "code",
   "execution_count": 12,
   "id": "1b584017",
   "metadata": {
    "scrolled": true
   },
   "outputs": [
    {
     "data": {
      "text/plain": [
       "array([  nan, 2019.])"
      ]
     },
     "execution_count": 12,
     "metadata": {},
     "output_type": "execute_result"
    }
   ],
   "source": [
    "df['year_of_capacity_data'].unique()"
   ]
  },
  {
   "cell_type": "code",
   "execution_count": 13,
   "id": "f53de750",
   "metadata": {},
   "outputs": [
    {
     "data": {
      "text/plain": [
       "array([nan])"
      ]
     },
     "execution_count": 13,
     "metadata": {},
     "output_type": "execute_result"
    }
   ],
   "source": [
    "df['generation_gwh_2013'].unique()"
   ]
  },
  {
   "cell_type": "code",
   "execution_count": 14,
   "id": "02bb39b5",
   "metadata": {},
   "outputs": [
    {
     "data": {
      "text/plain": [
       "array([nan])"
      ]
     },
     "execution_count": 14,
     "metadata": {},
     "output_type": "execute_result"
    }
   ],
   "source": [
    "df['generation_gwh_2019'].unique()"
   ]
  },
  {
   "cell_type": "code",
   "execution_count": 15,
   "id": "b734a294",
   "metadata": {},
   "outputs": [
    {
     "data": {
      "text/plain": [
       "array([nan, 'Central Electricity Authority'], dtype=object)"
      ]
     },
     "execution_count": 15,
     "metadata": {},
     "output_type": "execute_result"
    }
   ],
   "source": [
    "df['generation_data_source'].unique()"
   ]
  },
  {
   "cell_type": "code",
   "execution_count": 16,
   "id": "9072a9c6",
   "metadata": {},
   "outputs": [],
   "source": [
    "df.drop(['country','country_long','name','gppd_idnr','other_fuel2','other_fuel3','owner','url','wepp_id','year_of_capacity_data','generation_gwh_2013','generation_gwh_2019','generation_data_source','estimated_generation_gwh'],axis=1,inplace=True)"
   ]
  },
  {
   "cell_type": "markdown",
   "id": "d49e8396",
   "metadata": {},
   "source": [
    "We are droping these columns in this data because most of them contain more than 50% data which is of missing values."
   ]
  },
  {
   "cell_type": "code",
   "execution_count": 17,
   "id": "7c0eea95",
   "metadata": {},
   "outputs": [
    {
     "data": {
      "text/html": [
       "<div>\n",
       "<style scoped>\n",
       "    .dataframe tbody tr th:only-of-type {\n",
       "        vertical-align: middle;\n",
       "    }\n",
       "\n",
       "    .dataframe tbody tr th {\n",
       "        vertical-align: top;\n",
       "    }\n",
       "\n",
       "    .dataframe thead th {\n",
       "        text-align: right;\n",
       "    }\n",
       "</style>\n",
       "<table border=\"1\" class=\"dataframe\">\n",
       "  <thead>\n",
       "    <tr style=\"text-align: right;\">\n",
       "      <th></th>\n",
       "      <th>capacity_mw</th>\n",
       "      <th>latitude</th>\n",
       "      <th>longitude</th>\n",
       "      <th>primary_fuel</th>\n",
       "      <th>other_fuel1</th>\n",
       "      <th>commissioning_year</th>\n",
       "      <th>source</th>\n",
       "      <th>geolocation_source</th>\n",
       "      <th>generation_gwh_2014</th>\n",
       "      <th>generation_gwh_2015</th>\n",
       "      <th>generation_gwh_2016</th>\n",
       "      <th>generation_gwh_2017</th>\n",
       "      <th>generation_gwh_2018</th>\n",
       "    </tr>\n",
       "  </thead>\n",
       "  <tbody>\n",
       "    <tr>\n",
       "      <th>0</th>\n",
       "      <td>2.5</td>\n",
       "      <td>28.1839</td>\n",
       "      <td>73.2407</td>\n",
       "      <td>Solar</td>\n",
       "      <td>NaN</td>\n",
       "      <td>2011.0</td>\n",
       "      <td>National Renewable Energy Laboratory</td>\n",
       "      <td>National Renewable Energy Laboratory</td>\n",
       "      <td>NaN</td>\n",
       "      <td>NaN</td>\n",
       "      <td>NaN</td>\n",
       "      <td>NaN</td>\n",
       "      <td>NaN</td>\n",
       "    </tr>\n",
       "    <tr>\n",
       "      <th>1</th>\n",
       "      <td>98.0</td>\n",
       "      <td>24.7663</td>\n",
       "      <td>74.6090</td>\n",
       "      <td>Coal</td>\n",
       "      <td>NaN</td>\n",
       "      <td>NaN</td>\n",
       "      <td>Ultratech Cement ltd</td>\n",
       "      <td>WRI</td>\n",
       "      <td>NaN</td>\n",
       "      <td>NaN</td>\n",
       "      <td>NaN</td>\n",
       "      <td>NaN</td>\n",
       "      <td>NaN</td>\n",
       "    </tr>\n",
       "    <tr>\n",
       "      <th>2</th>\n",
       "      <td>39.2</td>\n",
       "      <td>21.9038</td>\n",
       "      <td>69.3732</td>\n",
       "      <td>Wind</td>\n",
       "      <td>NaN</td>\n",
       "      <td>NaN</td>\n",
       "      <td>CDM</td>\n",
       "      <td>WRI</td>\n",
       "      <td>NaN</td>\n",
       "      <td>NaN</td>\n",
       "      <td>NaN</td>\n",
       "      <td>NaN</td>\n",
       "      <td>NaN</td>\n",
       "    </tr>\n",
       "    <tr>\n",
       "      <th>3</th>\n",
       "      <td>135.0</td>\n",
       "      <td>23.8712</td>\n",
       "      <td>91.3602</td>\n",
       "      <td>Gas</td>\n",
       "      <td>NaN</td>\n",
       "      <td>2004.0</td>\n",
       "      <td>Central Electricity Authority</td>\n",
       "      <td>WRI</td>\n",
       "      <td>617.789264</td>\n",
       "      <td>843.747</td>\n",
       "      <td>886.004428</td>\n",
       "      <td>663.774500</td>\n",
       "      <td>626.239128</td>\n",
       "    </tr>\n",
       "    <tr>\n",
       "      <th>4</th>\n",
       "      <td>1800.0</td>\n",
       "      <td>21.9603</td>\n",
       "      <td>82.4091</td>\n",
       "      <td>Coal</td>\n",
       "      <td>Oil</td>\n",
       "      <td>2015.0</td>\n",
       "      <td>Central Electricity Authority</td>\n",
       "      <td>WRI</td>\n",
       "      <td>3035.550000</td>\n",
       "      <td>5916.370</td>\n",
       "      <td>6243.000000</td>\n",
       "      <td>5385.579736</td>\n",
       "      <td>7279.000000</td>\n",
       "    </tr>\n",
       "  </tbody>\n",
       "</table>\n",
       "</div>"
      ],
      "text/plain": [
       "   capacity_mw  latitude  longitude primary_fuel other_fuel1  \\\n",
       "0          2.5   28.1839    73.2407        Solar         NaN   \n",
       "1         98.0   24.7663    74.6090         Coal         NaN   \n",
       "2         39.2   21.9038    69.3732         Wind         NaN   \n",
       "3        135.0   23.8712    91.3602          Gas         NaN   \n",
       "4       1800.0   21.9603    82.4091         Coal         Oil   \n",
       "\n",
       "   commissioning_year                                source  \\\n",
       "0              2011.0  National Renewable Energy Laboratory   \n",
       "1                 NaN                  Ultratech Cement ltd   \n",
       "2                 NaN                                   CDM   \n",
       "3              2004.0         Central Electricity Authority   \n",
       "4              2015.0         Central Electricity Authority   \n",
       "\n",
       "                     geolocation_source  generation_gwh_2014  \\\n",
       "0  National Renewable Energy Laboratory                  NaN   \n",
       "1                                   WRI                  NaN   \n",
       "2                                   WRI                  NaN   \n",
       "3                                   WRI           617.789264   \n",
       "4                                   WRI          3035.550000   \n",
       "\n",
       "   generation_gwh_2015  generation_gwh_2016  generation_gwh_2017  \\\n",
       "0                  NaN                  NaN                  NaN   \n",
       "1                  NaN                  NaN                  NaN   \n",
       "2                  NaN                  NaN                  NaN   \n",
       "3              843.747           886.004428           663.774500   \n",
       "4             5916.370          6243.000000          5385.579736   \n",
       "\n",
       "   generation_gwh_2018  \n",
       "0                  NaN  \n",
       "1                  NaN  \n",
       "2                  NaN  \n",
       "3           626.239128  \n",
       "4          7279.000000  "
      ]
     },
     "execution_count": 17,
     "metadata": {},
     "output_type": "execute_result"
    }
   ],
   "source": [
    "df.head()"
   ]
  },
  {
   "cell_type": "code",
   "execution_count": 18,
   "id": "cd228faf",
   "metadata": {},
   "outputs": [
    {
     "data": {
      "text/plain": [
       "(907, 13)"
      ]
     },
     "execution_count": 18,
     "metadata": {},
     "output_type": "execute_result"
    }
   ],
   "source": [
    "df.shape"
   ]
  },
  {
   "cell_type": "code",
   "execution_count": 19,
   "id": "fe1f354e",
   "metadata": {},
   "outputs": [
    {
     "name": "stdout",
     "output_type": "stream",
     "text": [
      "Object Data Type Columns are:  ['primary_fuel', 'other_fuel1', 'source', 'geolocation_source']\n",
      "Float Data Type Columns are:  ['capacity_mw', 'latitude', 'longitude', 'commissioning_year', 'generation_gwh_2014', 'generation_gwh_2015', 'generation_gwh_2016', 'generation_gwh_2017', 'generation_gwh_2018']\n"
     ]
    }
   ],
   "source": [
    "object = []\n",
    "for x in df.dtypes.index:\n",
    "    if df.dtypes[x] == 'object':\n",
    "        object.append(x)\n",
    "print(f\"Object Data Type Columns are: \", object)\n",
    "\n",
    "\n",
    "# getting the list of float data type column names\n",
    "float = []\n",
    "for x in df.dtypes.index:\n",
    "    if df.dtypes[x] == 'float64':\n",
    "        float.append(x)\n",
    "print(f\"Float Data Type Columns are: \", float)"
   ]
  },
  {
   "cell_type": "markdown",
   "id": "d54f3b9a",
   "metadata": {},
   "source": [
    "I have separated the numerical and categorical data "
   ]
  },
  {
   "cell_type": "code",
   "execution_count": 20,
   "id": "8b931458",
   "metadata": {},
   "outputs": [],
   "source": [
    "df[\"latitude\"].fillna(df[\"latitude\"].mean(),inplace=True)\n",
    "df[\"longitude\"].fillna(df[\"longitude\"].mean(),inplace=True)\n",
    "df[\"commissioning_year\"].fillna(df[\"commissioning_year\"].mode()[0],inplace=True)\n",
    "df[\"geolocation_source\"].fillna(df[\"geolocation_source\"].mode()[0],inplace=True)"
   ]
  },
  {
   "cell_type": "markdown",
   "id": "ebf7ccb2",
   "metadata": {},
   "source": [
    "using mean for continous data and mode for categorical data by filling missing values"
   ]
  },
  {
   "cell_type": "code",
   "execution_count": 21,
   "id": "0cc325c7",
   "metadata": {},
   "outputs": [
    {
     "data": {
      "text/plain": [
       "capacity_mw              0\n",
       "latitude                 0\n",
       "longitude                0\n",
       "primary_fuel             0\n",
       "other_fuel1            709\n",
       "commissioning_year       0\n",
       "source                   0\n",
       "geolocation_source       0\n",
       "generation_gwh_2014    509\n",
       "generation_gwh_2015    485\n",
       "generation_gwh_2016    473\n",
       "generation_gwh_2017    467\n",
       "generation_gwh_2018    459\n",
       "dtype: int64"
      ]
     },
     "execution_count": 21,
     "metadata": {},
     "output_type": "execute_result"
    }
   ],
   "source": [
    "df.isnull().sum()"
   ]
  },
  {
   "cell_type": "code",
   "execution_count": 22,
   "id": "f8ea33d4",
   "metadata": {},
   "outputs": [
    {
     "data": {
      "text/plain": [
       "0        16.779017\n",
       "1       324.532517\n",
       "2        85.185267\n",
       "3       617.789264\n",
       "4      3035.550000\n",
       "          ...     \n",
       "902    3691.517167\n",
       "903      16.779017\n",
       "904      16.779017\n",
       "905     213.394333\n",
       "906      16.779017\n",
       "Name: generation_gwh_2014, Length: 907, dtype: float64"
      ]
     },
     "execution_count": 22,
     "metadata": {},
     "output_type": "execute_result"
    }
   ],
   "source": [
    "from sklearn.impute import KNNImputer\n",
    "knn=KNNImputer(n_neighbors=3)\n",
    "knn=pd.DataFrame(knn.fit_transform(df[[\"capacity_mw\",\"generation_gwh_2014\"]]))\n",
    "knn.columns=[\"capacity_mw\",\"generation_gwh_2014\"]\n",
    "df[\"generation_gwh_2014\"]=knn[\"generation_gwh_2014\"]\n",
    "df['generation_gwh_2014']"
   ]
  },
  {
   "cell_type": "code",
   "execution_count": 23,
   "id": "ddbde9ff",
   "metadata": {},
   "outputs": [
    {
     "data": {
      "text/plain": [
       "0        13.293200\n",
       "1       168.964267\n",
       "2       112.481433\n",
       "3       843.747000\n",
       "4      5916.370000\n",
       "          ...     \n",
       "902       0.994875\n",
       "903      13.293200\n",
       "904      13.293200\n",
       "905     187.315383\n",
       "906      13.293200\n",
       "Name: generation_gwh_2015, Length: 907, dtype: float64"
      ]
     },
     "execution_count": 23,
     "metadata": {},
     "output_type": "execute_result"
    }
   ],
   "source": [
    "knn=KNNImputer(n_neighbors=3)\n",
    "knn=pd.DataFrame(knn.fit_transform(df[[\"capacity_mw\",\"generation_gwh_2015\"]]))\n",
    "knn.columns=[\"capacity_mw\",\"generation_gwh_2015\"]\n",
    "df[\"generation_gwh_2015\"]=knn[\"generation_gwh_2015\"]\n",
    "df['generation_gwh_2015']\n"
   ]
  },
  {
   "cell_type": "code",
   "execution_count": 24,
   "id": "9f35b91c",
   "metadata": {},
   "outputs": [
    {
     "data": {
      "text/plain": [
       "0         8.974900\n",
       "1       253.214233\n",
       "2       114.819683\n",
       "3       886.004428\n",
       "4      6243.000000\n",
       "          ...     \n",
       "902     233.596650\n",
       "903       8.974900\n",
       "904       8.974900\n",
       "905     216.123950\n",
       "906       8.974900\n",
       "Name: generation_gwh_2016, Length: 907, dtype: float64"
      ]
     },
     "execution_count": 24,
     "metadata": {},
     "output_type": "execute_result"
    }
   ],
   "source": [
    "knn=KNNImputer(n_neighbors=3)\n",
    "knn=pd.DataFrame(knn.fit_transform(df[[\"capacity_mw\",\"generation_gwh_2016\"]]))\n",
    "knn.columns=[\"capacity_mw\",\"generation_gwh_2016\"]\n",
    "df[\"generation_gwh_2016\"]=knn[\"generation_gwh_2016\"]\n",
    "df['generation_gwh_2016']\n"
   ]
  },
  {
   "cell_type": "code",
   "execution_count": 25,
   "id": "6efae407",
   "metadata": {
    "scrolled": true
   },
   "outputs": [
    {
     "data": {
      "text/plain": [
       "0        22.244883\n",
       "1       210.319783\n",
       "2       185.902483\n",
       "3       663.774500\n",
       "4      5385.579736\n",
       "          ...     \n",
       "902     865.400000\n",
       "903      22.244883\n",
       "904      22.244883\n",
       "905     243.171367\n",
       "906      22.244883\n",
       "Name: generation_gwh_2017, Length: 907, dtype: float64"
      ]
     },
     "execution_count": 25,
     "metadata": {},
     "output_type": "execute_result"
    }
   ],
   "source": [
    "\n",
    "knn=KNNImputer(n_neighbors=3)\n",
    "knn=pd.DataFrame(knn.fit_transform(df[[\"capacity_mw\",\"generation_gwh_2017\"]]))\n",
    "knn.columns=[\"capacity_mw\",\"generation_gwh_2017\"]\n",
    "df[\"generation_gwh_2017\"]=knn[\"generation_gwh_2017\"]\n",
    "df['generation_gwh_2017']"
   ]
  },
  {
   "cell_type": "code",
   "execution_count": 26,
   "id": "a0335be2",
   "metadata": {},
   "outputs": [
    {
     "data": {
      "text/plain": [
       "0        47.968950\n",
       "1       299.083733\n",
       "2       198.180783\n",
       "3       626.239128\n",
       "4      7279.000000\n",
       "          ...     \n",
       "902     686.500000\n",
       "903      47.968950\n",
       "904      47.968950\n",
       "905     256.620450\n",
       "906      47.968950\n",
       "Name: generation_gwh_2018, Length: 907, dtype: float64"
      ]
     },
     "execution_count": 26,
     "metadata": {},
     "output_type": "execute_result"
    }
   ],
   "source": [
    "knn=KNNImputer(n_neighbors=3)\n",
    "knn=pd.DataFrame(knn.fit_transform(df[[\"capacity_mw\",\"generation_gwh_2018\"]]))\n",
    "knn.columns=[\"capacity_mw\",\"generation_gwh_2018\"]\n",
    "df[\"generation_gwh_2018\"]=knn[\"generation_gwh_2018\"]\n",
    "df['generation_gwh_2018']"
   ]
  },
  {
   "cell_type": "code",
   "execution_count": 27,
   "id": "f6b0764b",
   "metadata": {},
   "outputs": [],
   "source": [
    "df[\"other_fuel1\"] = df[\"other_fuel1\"].fillna(df[\"other_fuel1\"].mode()[0])"
   ]
  },
  {
   "cell_type": "code",
   "execution_count": 28,
   "id": "df9a00b0",
   "metadata": {},
   "outputs": [
    {
     "data": {
      "text/html": [
       "<div>\n",
       "<style scoped>\n",
       "    .dataframe tbody tr th:only-of-type {\n",
       "        vertical-align: middle;\n",
       "    }\n",
       "\n",
       "    .dataframe tbody tr th {\n",
       "        vertical-align: top;\n",
       "    }\n",
       "\n",
       "    .dataframe thead th {\n",
       "        text-align: right;\n",
       "    }\n",
       "</style>\n",
       "<table border=\"1\" class=\"dataframe\">\n",
       "  <thead>\n",
       "    <tr style=\"text-align: right;\">\n",
       "      <th></th>\n",
       "      <th>capacity_mw</th>\n",
       "      <th>latitude</th>\n",
       "      <th>longitude</th>\n",
       "      <th>commissioning_year</th>\n",
       "      <th>generation_gwh_2014</th>\n",
       "      <th>generation_gwh_2015</th>\n",
       "      <th>generation_gwh_2016</th>\n",
       "      <th>generation_gwh_2017</th>\n",
       "      <th>generation_gwh_2018</th>\n",
       "    </tr>\n",
       "  </thead>\n",
       "  <tbody>\n",
       "    <tr>\n",
       "      <th>count</th>\n",
       "      <td>907.000000</td>\n",
       "      <td>907.000000</td>\n",
       "      <td>907.000000</td>\n",
       "      <td>907.000000</td>\n",
       "      <td>907.000000</td>\n",
       "      <td>907.000000</td>\n",
       "      <td>907.000000</td>\n",
       "      <td>907.000000</td>\n",
       "      <td>907.000000</td>\n",
       "    </tr>\n",
       "    <tr>\n",
       "      <th>mean</th>\n",
       "      <td>326.223755</td>\n",
       "      <td>21.197918</td>\n",
       "      <td>77.464907</td>\n",
       "      <td>2004.594267</td>\n",
       "      <td>1216.741950</td>\n",
       "      <td>1225.073916</td>\n",
       "      <td>1247.908108</td>\n",
       "      <td>1294.299953</td>\n",
       "      <td>1348.291762</td>\n",
       "    </tr>\n",
       "    <tr>\n",
       "      <th>std</th>\n",
       "      <td>590.085456</td>\n",
       "      <td>6.079148</td>\n",
       "      <td>4.812291</td>\n",
       "      <td>15.734928</td>\n",
       "      <td>2944.274717</td>\n",
       "      <td>3119.361453</td>\n",
       "      <td>3138.569942</td>\n",
       "      <td>3187.953881</td>\n",
       "      <td>3293.148855</td>\n",
       "    </tr>\n",
       "    <tr>\n",
       "      <th>min</th>\n",
       "      <td>0.000000</td>\n",
       "      <td>8.168900</td>\n",
       "      <td>68.644700</td>\n",
       "      <td>1927.000000</td>\n",
       "      <td>0.000000</td>\n",
       "      <td>0.000000</td>\n",
       "      <td>0.000000</td>\n",
       "      <td>0.000000</td>\n",
       "      <td>0.000000</td>\n",
       "    </tr>\n",
       "    <tr>\n",
       "      <th>25%</th>\n",
       "      <td>16.725000</td>\n",
       "      <td>17.072000</td>\n",
       "      <td>74.388900</td>\n",
       "      <td>1998.000000</td>\n",
       "      <td>16.779017</td>\n",
       "      <td>13.293200</td>\n",
       "      <td>8.974900</td>\n",
       "      <td>22.244883</td>\n",
       "      <td>47.968950</td>\n",
       "    </tr>\n",
       "    <tr>\n",
       "      <th>50%</th>\n",
       "      <td>59.200000</td>\n",
       "      <td>21.281800</td>\n",
       "      <td>76.979200</td>\n",
       "      <td>2014.000000</td>\n",
       "      <td>171.853083</td>\n",
       "      <td>139.546801</td>\n",
       "      <td>131.021600</td>\n",
       "      <td>128.822650</td>\n",
       "      <td>133.912800</td>\n",
       "    </tr>\n",
       "    <tr>\n",
       "      <th>75%</th>\n",
       "      <td>385.250000</td>\n",
       "      <td>25.176450</td>\n",
       "      <td>79.206100</td>\n",
       "      <td>2015.000000</td>\n",
       "      <td>926.055500</td>\n",
       "      <td>735.113025</td>\n",
       "      <td>780.149650</td>\n",
       "      <td>817.977250</td>\n",
       "      <td>810.733240</td>\n",
       "    </tr>\n",
       "    <tr>\n",
       "      <th>max</th>\n",
       "      <td>4760.000000</td>\n",
       "      <td>34.649000</td>\n",
       "      <td>95.408000</td>\n",
       "      <td>2018.000000</td>\n",
       "      <td>28127.000000</td>\n",
       "      <td>30539.000000</td>\n",
       "      <td>30015.000000</td>\n",
       "      <td>35116.000000</td>\n",
       "      <td>35136.000000</td>\n",
       "    </tr>\n",
       "  </tbody>\n",
       "</table>\n",
       "</div>"
      ],
      "text/plain": [
       "       capacity_mw    latitude   longitude  commissioning_year  \\\n",
       "count   907.000000  907.000000  907.000000          907.000000   \n",
       "mean    326.223755   21.197918   77.464907         2004.594267   \n",
       "std     590.085456    6.079148    4.812291           15.734928   \n",
       "min       0.000000    8.168900   68.644700         1927.000000   \n",
       "25%      16.725000   17.072000   74.388900         1998.000000   \n",
       "50%      59.200000   21.281800   76.979200         2014.000000   \n",
       "75%     385.250000   25.176450   79.206100         2015.000000   \n",
       "max    4760.000000   34.649000   95.408000         2018.000000   \n",
       "\n",
       "       generation_gwh_2014  generation_gwh_2015  generation_gwh_2016  \\\n",
       "count           907.000000           907.000000           907.000000   \n",
       "mean           1216.741950          1225.073916          1247.908108   \n",
       "std            2944.274717          3119.361453          3138.569942   \n",
       "min               0.000000             0.000000             0.000000   \n",
       "25%              16.779017            13.293200             8.974900   \n",
       "50%             171.853083           139.546801           131.021600   \n",
       "75%             926.055500           735.113025           780.149650   \n",
       "max           28127.000000         30539.000000         30015.000000   \n",
       "\n",
       "       generation_gwh_2017  generation_gwh_2018  \n",
       "count           907.000000           907.000000  \n",
       "mean           1294.299953          1348.291762  \n",
       "std            3187.953881          3293.148855  \n",
       "min               0.000000             0.000000  \n",
       "25%              22.244883            47.968950  \n",
       "50%             128.822650           133.912800  \n",
       "75%             817.977250           810.733240  \n",
       "max           35116.000000         35136.000000  "
      ]
     },
     "execution_count": 28,
     "metadata": {},
     "output_type": "execute_result"
    }
   ],
   "source": [
    "df.describe()"
   ]
  },
  {
   "cell_type": "markdown",
   "id": "2e8a7cce",
   "metadata": {},
   "source": [
    "1.The counts of columns are same which means there are no missing values present in the dataset.\n",
    "\n",
    "2.The mean is more than the median(50%) in all the columns except latitude which means they are skewed to right.Most data is right skewed.\n",
    "\n",
    "3.The median is little greater than the mean in commissioning_year which means it is left skewed.\n",
    "\n",
    "4.From the difference between maximum and 75% percentile we can infer that there are huge outliers present."
   ]
  },
  {
   "cell_type": "markdown",
   "id": "43e73bd2",
   "metadata": {},
   "source": [
    "Univariate Analysis"
   ]
  },
  {
   "cell_type": "code",
   "execution_count": 29,
   "id": "b0141b00",
   "metadata": {},
   "outputs": [
    {
     "data": {
      "image/png": "[encoded data removed]",
      "text/plain": [
       "<Figure size 432x288 with 1 Axes>"
      ]
     },
     "metadata": {
      "needs_background": "light"
     },
     "output_type": "display_data"
    },
    {
     "data": {
      "image/png": "[encoded data removed]",
      "text/plain": [
       "<Figure size 432x288 with 1 Axes>"
      ]
     },
     "metadata": {
      "needs_background": "light"
     },
     "output_type": "display_data"
    },
    {
     "data": {
      "image/png": "[encoded data removed]",
      "text/plain": [
       "<Figure size 432x288 with 1 Axes>"
      ]
     },
     "metadata": {
      "needs_background": "light"
     },
     "output_type": "display_data"
    },
    {
     "data": {
      "image/png": "[encoded data removed]",
      "text/plain": [
       "<Figure size 432x288 with 1 Axes>"
      ]
     },
     "metadata": {
      "needs_background": "light"
     },
     "output_type": "display_data"
    },
    {
     "data": {
      "image/png": "[encoded data removed]",
      "text/plain": [
       "<Figure size 432x288 with 1 Axes>"
      ]
     },
     "metadata": {
      "needs_background": "light"
     },
     "output_type": "display_data"
    },
    {
     "data": {
      "image/png": "[encoded data removed]",
      "text/plain": [
       "<Figure size 432x288 with 1 Axes>"
      ]
     },
     "metadata": {
      "needs_background": "light"
     },
     "output_type": "display_data"
    },
    {
     "data": {
      "image/png": "[encoded data removed]",
      "text/plain": [
       "<Figure size 432x288 with 1 Axes>"
      ]
     },
     "metadata": {
      "needs_background": "light"
     },
     "output_type": "display_data"
    },
    {
     "data": {
      "image/png": "[encoded data removed]",
      "text/plain": [
       "<Figure size 432x288 with 1 Axes>"
      ]
     },
     "metadata": {
      "needs_background": "light"
     },
     "output_type": "display_data"
    },
    {
     "data": {
      "image/png": "[encoded data removed]",
      "text/plain": [
       "<Figure size 432x288 with 1 Axes>"
      ]
     },
     "metadata": {
      "needs_background": "light"
     },
     "output_type": "display_data"
    },
    {
     "data": {
      "image/png": "[encoded data removed]",
      "text/plain": [
       "<Figure size 432x288 with 1 Axes>"
      ]
     },
     "metadata": {
      "needs_background": "light"
     },
     "output_type": "display_data"
    },
    {
     "data": {
      "image/png": "[encoded data removed]",
      "text/plain": [
       "<Figure size 432x288 with 1 Axes>"
      ]
     },
     "metadata": {
      "needs_background": "light"
     },
     "output_type": "display_data"
    },
    {
     "data": {
      "image/png": "[encoded data removed]",
      "text/plain": [
       "<Figure size 432x288 with 1 Axes>"
      ]
     },
     "metadata": {
      "needs_background": "light"
     },
     "output_type": "display_data"
    },
    {
     "data": {
      "image/png": "[encoded data removed]",
      "text/plain": [
       "<Figure size 432x288 with 1 Axes>"
      ]
     },
     "metadata": {
      "needs_background": "light"
     },
     "output_type": "display_data"
    }
   ],
   "source": [
    "for i,col in enumerate(df.columns):\n",
    "    plt.figure(i)\n",
    "    sns.countplot(x=col ,data=df)"
   ]
  },
  {
   "cell_type": "markdown",
   "id": "266b8b77",
   "metadata": {},
   "source": [
    "Coal and Hydro were widely used and least used was oil and nuclear in primary fuel \n",
    "In other fuel most used was oil\n",
    "The geolaction source was max in WRI and minimum from National Renewable Energy Lab\n"
   ]
  },
  {
   "cell_type": "markdown",
   "id": "238554f2",
   "metadata": {},
   "source": [
    "Bivariate Analysis"
   ]
  },
  {
   "cell_type": "code",
   "execution_count": 30,
   "id": "6ba742e4",
   "metadata": {},
   "outputs": [
    {
     "data": {
      "image/png": "[encoded data removed]",
      "text/plain": [
       "<Figure size 432x288 with 1 Axes>"
      ]
     },
     "metadata": {
      "needs_background": "light"
     },
     "output_type": "display_data"
    }
   ],
   "source": [
    "sns.scatterplot(x = \"commissioning_year\" , y = \"capacity_mw\", data = df)\n",
    "plt.show()"
   ]
  },
  {
   "cell_type": "markdown",
   "id": "4981cf34",
   "metadata": {},
   "source": [
    "As years increased so the consumption also increased in older times it was less"
   ]
  },
  {
   "cell_type": "code",
   "execution_count": 31,
   "id": "ffce9a9e",
   "metadata": {},
   "outputs": [
    {
     "data": {
      "image/png": "[encoded data removed]",
      "text/plain": [
       "<Figure size 432x288 with 1 Axes>"
      ]
     },
     "metadata": {
      "needs_background": "light"
     },
     "output_type": "display_data"
    }
   ],
   "source": [
    "sns.scatterplot(x = \"latitude\", y = \"capacity_mw\", data = df)\n",
    "plt.show()"
   ]
  },
  {
   "cell_type": "markdown",
   "id": "50ed0808",
   "metadata": {},
   "source": [
    " latitude geolocation for electricty generation is highest measuring the mega watts between 20 to 25 decimal degrees."
   ]
  },
  {
   "cell_type": "code",
   "execution_count": 32,
   "id": "7e48c943",
   "metadata": {},
   "outputs": [
    {
     "data": {
      "image/png": "[encoded data removed]",
      "text/plain": [
       "<Figure size 432x288 with 1 Axes>"
      ]
     },
     "metadata": {
      "needs_background": "light"
     },
     "output_type": "display_data"
    }
   ],
   "source": [
    "sns.scatterplot(x = \"longitude\", y = \"capacity_mw\", data = df)\n",
    "plt.show()"
   ]
  },
  {
   "cell_type": "markdown",
   "id": "7bb71862",
   "metadata": {},
   "source": [
    "longitude geolocation for electricty generation is highest measuring the mega watts around 70 and then again between 80-85 decimal degrees."
   ]
  },
  {
   "cell_type": "code",
   "execution_count": 33,
   "id": "d57dc90d",
   "metadata": {},
   "outputs": [
    {
     "data": {
      "image/png": "[encoded data removed]",
      "text/plain": [
       "<Figure size 432x288 with 1 Axes>"
      ]
     },
     "metadata": {
      "needs_background": "light"
     },
     "output_type": "display_data"
    }
   ],
   "source": [
    "sns.scatterplot(x = \"generation_gwh_2014\", y = \"capacity_mw\", data = df)\n",
    "plt.show()"
   ]
  },
  {
   "cell_type": "markdown",
   "id": "f6e97ac4",
   "metadata": {},
   "source": [
    "As generation gwh increases the capacity also increase and there is a linear relationship"
   ]
  },
  {
   "cell_type": "code",
   "execution_count": 34,
   "id": "af08a026",
   "metadata": {},
   "outputs": [
    {
     "data": {
      "image/png": "[encoded data removed]",
      "text/plain": [
       "<Figure size 432x288 with 1 Axes>"
      ]
     },
     "metadata": {
      "needs_background": "light"
     },
     "output_type": "display_data"
    },
    {
     "data": {
      "image/png": "[encoded data removed]",
      "text/plain": [
       "<Figure size 432x288 with 1 Axes>"
      ]
     },
     "metadata": {
      "needs_background": "light"
     },
     "output_type": "display_data"
    },
    {
     "data": {
      "image/png": "[encoded data removed]",
      "text/plain": [
       "<Figure size 432x288 with 1 Axes>"
      ]
     },
     "metadata": {
      "needs_background": "light"
     },
     "output_type": "display_data"
    },
    {
     "data": {
      "image/png": "[encoded data removed]",
      "text/plain": [
       "<Figure size 432x288 with 1 Axes>"
      ]
     },
     "metadata": {
      "needs_background": "light"
     },
     "output_type": "display_data"
    }
   ],
   "source": [
    "sns.scatterplot(x = \"generation_gwh_2015\", y = \"capacity_mw\", data = df)\n",
    "plt.show()\n",
    "sns.scatterplot(x = \"generation_gwh_2016\", y = \"capacity_mw\", data = df)\n",
    "plt.show()\n",
    "sns.scatterplot(x = \"generation_gwh_2017\", y = \"capacity_mw\", data = df)\n",
    "plt.show()\n",
    "sns.scatterplot(x = \"generation_gwh_2018\", y = \"capacity_mw\", data = df)\n",
    "plt.show()"
   ]
  },
  {
   "cell_type": "markdown",
   "id": "943b5d28",
   "metadata": {},
   "source": [
    "There is a linear relationship in all the four graph as generation growth increased so did the capacity increased"
   ]
  },
  {
   "cell_type": "code",
   "execution_count": 35,
   "id": "726e931d",
   "metadata": {},
   "outputs": [
    {
     "data": {
      "image/png": "[encoded data removed]",
      "text/plain": [
       "<Figure size 432x288 with 1 Axes>"
      ]
     },
     "metadata": {
      "needs_background": "light"
     },
     "output_type": "display_data"
    }
   ],
   "source": [
    "sns.barplot(x = \"primary_fuel\", y = \"capacity_mw\", data = df)\n",
    "plt.show()"
   ]
  },
  {
   "cell_type": "markdown",
   "id": "8e2792e8",
   "metadata": {},
   "source": [
    "Nuclear engery has more capacity then others and coal later"
   ]
  },
  {
   "cell_type": "code",
   "execution_count": 36,
   "id": "1095b43e",
   "metadata": {},
   "outputs": [
    {
     "data": {
      "image/png": "[encoded data removed]",
      "text/plain": [
       "<Figure size 432x288 with 1 Axes>"
      ]
     },
     "metadata": {
      "needs_background": "light"
     },
     "output_type": "display_data"
    },
    {
     "data": {
      "image/png": "[encoded data removed]",
      "text/plain": [
       "<Figure size 432x288 with 1 Axes>"
      ]
     },
     "metadata": {
      "needs_background": "light"
     },
     "output_type": "display_data"
    },
    {
     "data": {
      "image/png": "[encoded data removed]",
      "text/plain": [
       "<Figure size 432x288 with 1 Axes>"
      ]
     },
     "metadata": {
      "needs_background": "light"
     },
     "output_type": "display_data"
    },
    {
     "data": {
      "image/png": "[encoded data removed]",
      "text/plain": [
       "<Figure size 432x288 with 1 Axes>"
      ]
     },
     "metadata": {
      "needs_background": "light"
     },
     "output_type": "display_data"
    },
    {
     "data": {
      "image/png": "[encoded data removed]",
      "text/plain": [
       "<Figure size 432x288 with 1 Axes>"
      ]
     },
     "metadata": {
      "needs_background": "light"
     },
     "output_type": "display_data"
    }
   ],
   "source": [
    "sns.barplot(x = \"primary_fuel\", y = \"generation_gwh_2014\", data = df)\n",
    "plt.show()\n",
    "sns.barplot(x = \"primary_fuel\", y = \"generation_gwh_2015\", data = df)\n",
    "plt.show()\n",
    "sns.barplot(x = \"primary_fuel\", y = \"generation_gwh_2016\", data = df)\n",
    "plt.show()\n",
    "sns.barplot(x = \"primary_fuel\", y = \"generation_gwh_2017\", data = df)\n",
    "plt.show()\n",
    "sns.barplot(x = \"primary_fuel\", y = \"generation_gwh_2018\", data = df)\n",
    "plt.show()"
   ]
  },
  {
   "cell_type": "markdown",
   "id": "e16b77ea",
   "metadata": {},
   "source": [
    "Nuclear power is the most energy productive all year later coal"
   ]
  },
  {
   "cell_type": "code",
   "execution_count": 37,
   "id": "5726bbbc",
   "metadata": {},
   "outputs": [],
   "source": [
    "corr=df.corr()"
   ]
  },
  {
   "cell_type": "code",
   "execution_count": 38,
   "id": "a419acdb",
   "metadata": {},
   "outputs": [
    {
     "data": {
      "text/plain": [
       "<module 'matplotlib.pyplot' from 'C:\\\\Users\\\\Jaswinder kaur\\\\anaconda3\\\\lib\\\\site-packages\\\\matplotlib\\\\pyplot.py'>"
      ]
     },
     "execution_count": 38,
     "metadata": {},
     "output_type": "execute_result"
    },
    {
     "data": {
      "image/png": "[encoded data removed]",
      "text/plain": [
       "<Figure size 432x288 with 2 Axes>"
      ]
     },
     "metadata": {
      "needs_background": "light"
     },
     "output_type": "display_data"
    }
   ],
   "source": [
    "sns.heatmap(df.corr(),annot=True,annot_kws={'size':7})\n",
    "plt"
   ]
  },
  {
   "cell_type": "markdown",
   "id": "a744f0f2",
   "metadata": {},
   "source": [
    "Now we will change the object data into float data by using Label Encoder"
   ]
  },
  {
   "cell_type": "code",
   "execution_count": 39,
   "id": "695308a6",
   "metadata": {},
   "outputs": [
    {
     "data": {
      "text/html": [
       "<div>\n",
       "<style scoped>\n",
       "    .dataframe tbody tr th:only-of-type {\n",
       "        vertical-align: middle;\n",
       "    }\n",
       "\n",
       "    .dataframe tbody tr th {\n",
       "        vertical-align: top;\n",
       "    }\n",
       "\n",
       "    .dataframe thead th {\n",
       "        text-align: right;\n",
       "    }\n",
       "</style>\n",
       "<table border=\"1\" class=\"dataframe\">\n",
       "  <thead>\n",
       "    <tr style=\"text-align: right;\">\n",
       "      <th></th>\n",
       "      <th>capacity_mw</th>\n",
       "      <th>latitude</th>\n",
       "      <th>longitude</th>\n",
       "      <th>primary_fuel</th>\n",
       "      <th>other_fuel1</th>\n",
       "      <th>commissioning_year</th>\n",
       "      <th>source</th>\n",
       "      <th>geolocation_source</th>\n",
       "      <th>generation_gwh_2014</th>\n",
       "      <th>generation_gwh_2015</th>\n",
       "      <th>generation_gwh_2016</th>\n",
       "      <th>generation_gwh_2017</th>\n",
       "      <th>generation_gwh_2018</th>\n",
       "    </tr>\n",
       "  </thead>\n",
       "  <tbody>\n",
       "    <tr>\n",
       "      <th>0</th>\n",
       "      <td>2.5</td>\n",
       "      <td>28.1839</td>\n",
       "      <td>73.2407</td>\n",
       "      <td>6</td>\n",
       "      <td>Oil</td>\n",
       "      <td>2011.0</td>\n",
       "      <td>National Renewable Energy Laboratory</td>\n",
       "      <td>National Renewable Energy Laboratory</td>\n",
       "      <td>16.779017</td>\n",
       "      <td>13.293200</td>\n",
       "      <td>8.974900</td>\n",
       "      <td>22.244883</td>\n",
       "      <td>47.968950</td>\n",
       "    </tr>\n",
       "    <tr>\n",
       "      <th>1</th>\n",
       "      <td>98.0</td>\n",
       "      <td>24.7663</td>\n",
       "      <td>74.6090</td>\n",
       "      <td>1</td>\n",
       "      <td>Oil</td>\n",
       "      <td>2015.0</td>\n",
       "      <td>Ultratech Cement ltd</td>\n",
       "      <td>WRI</td>\n",
       "      <td>324.532517</td>\n",
       "      <td>168.964267</td>\n",
       "      <td>253.214233</td>\n",
       "      <td>210.319783</td>\n",
       "      <td>299.083733</td>\n",
       "    </tr>\n",
       "    <tr>\n",
       "      <th>2</th>\n",
       "      <td>39.2</td>\n",
       "      <td>21.9038</td>\n",
       "      <td>69.3732</td>\n",
       "      <td>7</td>\n",
       "      <td>Oil</td>\n",
       "      <td>2015.0</td>\n",
       "      <td>CDM</td>\n",
       "      <td>WRI</td>\n",
       "      <td>85.185267</td>\n",
       "      <td>112.481433</td>\n",
       "      <td>114.819683</td>\n",
       "      <td>185.902483</td>\n",
       "      <td>198.180783</td>\n",
       "    </tr>\n",
       "    <tr>\n",
       "      <th>3</th>\n",
       "      <td>135.0</td>\n",
       "      <td>23.8712</td>\n",
       "      <td>91.3602</td>\n",
       "      <td>2</td>\n",
       "      <td>Oil</td>\n",
       "      <td>2004.0</td>\n",
       "      <td>Central Electricity Authority</td>\n",
       "      <td>WRI</td>\n",
       "      <td>617.789264</td>\n",
       "      <td>843.747000</td>\n",
       "      <td>886.004428</td>\n",
       "      <td>663.774500</td>\n",
       "      <td>626.239128</td>\n",
       "    </tr>\n",
       "    <tr>\n",
       "      <th>4</th>\n",
       "      <td>1800.0</td>\n",
       "      <td>21.9603</td>\n",
       "      <td>82.4091</td>\n",
       "      <td>1</td>\n",
       "      <td>Oil</td>\n",
       "      <td>2015.0</td>\n",
       "      <td>Central Electricity Authority</td>\n",
       "      <td>WRI</td>\n",
       "      <td>3035.550000</td>\n",
       "      <td>5916.370000</td>\n",
       "      <td>6243.000000</td>\n",
       "      <td>5385.579736</td>\n",
       "      <td>7279.000000</td>\n",
       "    </tr>\n",
       "  </tbody>\n",
       "</table>\n",
       "</div>"
      ],
      "text/plain": [
       "   capacity_mw  latitude  longitude  primary_fuel other_fuel1  \\\n",
       "0          2.5   28.1839    73.2407             6         Oil   \n",
       "1         98.0   24.7663    74.6090             1         Oil   \n",
       "2         39.2   21.9038    69.3732             7         Oil   \n",
       "3        135.0   23.8712    91.3602             2         Oil   \n",
       "4       1800.0   21.9603    82.4091             1         Oil   \n",
       "\n",
       "   commissioning_year                                source  \\\n",
       "0              2011.0  National Renewable Energy Laboratory   \n",
       "1              2015.0                  Ultratech Cement ltd   \n",
       "2              2015.0                                   CDM   \n",
       "3              2004.0         Central Electricity Authority   \n",
       "4              2015.0         Central Electricity Authority   \n",
       "\n",
       "                     geolocation_source  generation_gwh_2014  \\\n",
       "0  National Renewable Energy Laboratory            16.779017   \n",
       "1                                   WRI           324.532517   \n",
       "2                                   WRI            85.185267   \n",
       "3                                   WRI           617.789264   \n",
       "4                                   WRI          3035.550000   \n",
       "\n",
       "   generation_gwh_2015  generation_gwh_2016  generation_gwh_2017  \\\n",
       "0            13.293200             8.974900            22.244883   \n",
       "1           168.964267           253.214233           210.319783   \n",
       "2           112.481433           114.819683           185.902483   \n",
       "3           843.747000           886.004428           663.774500   \n",
       "4          5916.370000          6243.000000          5385.579736   \n",
       "\n",
       "   generation_gwh_2018  \n",
       "0            47.968950  \n",
       "1           299.083733  \n",
       "2           198.180783  \n",
       "3           626.239128  \n",
       "4          7279.000000  "
      ]
     },
     "execution_count": 39,
     "metadata": {},
     "output_type": "execute_result"
    }
   ],
   "source": [
    "\n",
    "from sklearn.preprocessing import LabelEncoder\n",
    "le = LabelEncoder()\n",
    "df[\"primary_fuel\"] = le.fit_transform(df[\"primary_fuel\"])\n",
    "df.head()"
   ]
  },
  {
   "cell_type": "code",
   "execution_count": 40,
   "id": "0170ad72",
   "metadata": {},
   "outputs": [
    {
     "data": {
      "text/html": [
       "<div>\n",
       "<style scoped>\n",
       "    .dataframe tbody tr th:only-of-type {\n",
       "        vertical-align: middle;\n",
       "    }\n",
       "\n",
       "    .dataframe tbody tr th {\n",
       "        vertical-align: top;\n",
       "    }\n",
       "\n",
       "    .dataframe thead th {\n",
       "        text-align: right;\n",
       "    }\n",
       "</style>\n",
       "<table border=\"1\" class=\"dataframe\">\n",
       "  <thead>\n",
       "    <tr style=\"text-align: right;\">\n",
       "      <th></th>\n",
       "      <th>capacity_mw</th>\n",
       "      <th>latitude</th>\n",
       "      <th>longitude</th>\n",
       "      <th>primary_fuel</th>\n",
       "      <th>other_fuel1</th>\n",
       "      <th>commissioning_year</th>\n",
       "      <th>source</th>\n",
       "      <th>geolocation_source</th>\n",
       "      <th>generation_gwh_2014</th>\n",
       "      <th>generation_gwh_2015</th>\n",
       "      <th>generation_gwh_2016</th>\n",
       "      <th>generation_gwh_2017</th>\n",
       "      <th>generation_gwh_2018</th>\n",
       "    </tr>\n",
       "  </thead>\n",
       "  <tbody>\n",
       "    <tr>\n",
       "      <th>0</th>\n",
       "      <td>2.5</td>\n",
       "      <td>28.1839</td>\n",
       "      <td>73.2407</td>\n",
       "      <td>6</td>\n",
       "      <td>2.0</td>\n",
       "      <td>2011.0</td>\n",
       "      <td>109.0</td>\n",
       "      <td>1.0</td>\n",
       "      <td>16.779017</td>\n",
       "      <td>13.293200</td>\n",
       "      <td>8.974900</td>\n",
       "      <td>22.244883</td>\n",
       "      <td>47.968950</td>\n",
       "    </tr>\n",
       "    <tr>\n",
       "      <th>1</th>\n",
       "      <td>98.0</td>\n",
       "      <td>24.7663</td>\n",
       "      <td>74.6090</td>\n",
       "      <td>1</td>\n",
       "      <td>2.0</td>\n",
       "      <td>2015.0</td>\n",
       "      <td>174.0</td>\n",
       "      <td>2.0</td>\n",
       "      <td>324.532517</td>\n",
       "      <td>168.964267</td>\n",
       "      <td>253.214233</td>\n",
       "      <td>210.319783</td>\n",
       "      <td>299.083733</td>\n",
       "    </tr>\n",
       "    <tr>\n",
       "      <th>2</th>\n",
       "      <td>39.2</td>\n",
       "      <td>21.9038</td>\n",
       "      <td>69.3732</td>\n",
       "      <td>7</td>\n",
       "      <td>2.0</td>\n",
       "      <td>2015.0</td>\n",
       "      <td>21.0</td>\n",
       "      <td>2.0</td>\n",
       "      <td>85.185267</td>\n",
       "      <td>112.481433</td>\n",
       "      <td>114.819683</td>\n",
       "      <td>185.902483</td>\n",
       "      <td>198.180783</td>\n",
       "    </tr>\n",
       "    <tr>\n",
       "      <th>3</th>\n",
       "      <td>135.0</td>\n",
       "      <td>23.8712</td>\n",
       "      <td>91.3602</td>\n",
       "      <td>2</td>\n",
       "      <td>2.0</td>\n",
       "      <td>2004.0</td>\n",
       "      <td>22.0</td>\n",
       "      <td>2.0</td>\n",
       "      <td>617.789264</td>\n",
       "      <td>843.747000</td>\n",
       "      <td>886.004428</td>\n",
       "      <td>663.774500</td>\n",
       "      <td>626.239128</td>\n",
       "    </tr>\n",
       "    <tr>\n",
       "      <th>4</th>\n",
       "      <td>1800.0</td>\n",
       "      <td>21.9603</td>\n",
       "      <td>82.4091</td>\n",
       "      <td>1</td>\n",
       "      <td>2.0</td>\n",
       "      <td>2015.0</td>\n",
       "      <td>22.0</td>\n",
       "      <td>2.0</td>\n",
       "      <td>3035.550000</td>\n",
       "      <td>5916.370000</td>\n",
       "      <td>6243.000000</td>\n",
       "      <td>5385.579736</td>\n",
       "      <td>7279.000000</td>\n",
       "    </tr>\n",
       "  </tbody>\n",
       "</table>\n",
       "</div>"
      ],
      "text/plain": [
       "   capacity_mw  latitude  longitude  primary_fuel  other_fuel1  \\\n",
       "0          2.5   28.1839    73.2407             6          2.0   \n",
       "1         98.0   24.7663    74.6090             1          2.0   \n",
       "2         39.2   21.9038    69.3732             7          2.0   \n",
       "3        135.0   23.8712    91.3602             2          2.0   \n",
       "4       1800.0   21.9603    82.4091             1          2.0   \n",
       "\n",
       "   commissioning_year  source  geolocation_source  generation_gwh_2014  \\\n",
       "0              2011.0   109.0                 1.0            16.779017   \n",
       "1              2015.0   174.0                 2.0           324.532517   \n",
       "2              2015.0    21.0                 2.0            85.185267   \n",
       "3              2004.0    22.0                 2.0           617.789264   \n",
       "4              2015.0    22.0                 2.0          3035.550000   \n",
       "\n",
       "   generation_gwh_2015  generation_gwh_2016  generation_gwh_2017  \\\n",
       "0            13.293200             8.974900            22.244883   \n",
       "1           168.964267           253.214233           210.319783   \n",
       "2           112.481433           114.819683           185.902483   \n",
       "3           843.747000           886.004428           663.774500   \n",
       "4          5916.370000          6243.000000          5385.579736   \n",
       "\n",
       "   generation_gwh_2018  \n",
       "0            47.968950  \n",
       "1           299.083733  \n",
       "2           198.180783  \n",
       "3           626.239128  \n",
       "4          7279.000000  "
      ]
     },
     "execution_count": 40,
     "metadata": {},
     "output_type": "execute_result"
    }
   ],
   "source": [
    "from sklearn.preprocessing import OrdinalEncoder\n",
    "oe = OrdinalEncoder()\n",
    "df['geolocation_source'] = oe.fit_transform(df['geolocation_source'].values.reshape(-1,1))\n",
    "df['source'] = oe.fit_transform(df['source'].values.reshape(-1,1))\n",
    "df['other_fuel1'] = oe.fit_transform(df['other_fuel1'].values.reshape(-1,1))\n",
    "df.head()"
   ]
  },
  {
   "cell_type": "code",
   "execution_count": 41,
   "id": "b08983bb",
   "metadata": {},
   "outputs": [
    {
     "data": {
      "text/plain": [
       "<AxesSubplot:>"
      ]
     },
     "execution_count": 41,
     "metadata": {},
     "output_type": "execute_result"
    },
    {
     "data": {
      "image/png": "[encoded data removed]",
      "text/plain": [
       "<Figure size 432x288 with 1 Axes>"
      ]
     },
     "metadata": {
      "needs_background": "light"
     },
     "output_type": "display_data"
    }
   ],
   "source": [
    "df_corr = df.corr()\n",
    "df_corr['primary_fuel'].sort_values(ascending=False).drop('primary_fuel').plot.bar()"
   ]
  },
  {
   "cell_type": "code",
   "execution_count": 42,
   "id": "96835103",
   "metadata": {},
   "outputs": [
    {
     "data": {
      "text/plain": [
       "<AxesSubplot:>"
      ]
     },
     "execution_count": 42,
     "metadata": {},
     "output_type": "execute_result"
    },
    {
     "data": {
      "image/png": "[encoded data removed]",
      "text/plain": [
       "<Figure size 432x288 with 1 Axes>"
      ]
     },
     "metadata": {
      "needs_background": "light"
     },
     "output_type": "display_data"
    }
   ],
   "source": [
    "df.corr()['capacity_mw'].sort_values(ascending=False).drop(['capacity_mw']).plot.bar()"
   ]
  },
  {
   "cell_type": "markdown",
   "id": "59acfa6e",
   "metadata": {},
   "source": [
    "dropping other fuel 1 as it is negatively corelated"
   ]
  },
  {
   "cell_type": "code",
   "execution_count": 43,
   "id": "6f0e6c66",
   "metadata": {},
   "outputs": [],
   "source": [
    "df.drop('other_fuel1',axis=1,inplace=True)"
   ]
  },
  {
   "cell_type": "code",
   "execution_count": 44,
   "id": "8632d2c3",
   "metadata": {},
   "outputs": [
    {
     "data": {
      "image/png": "[encoded data removed]",
      "text/plain": [
       "<Figure size 1440x1080 with 12 Axes>"
      ]
     },
     "metadata": {
      "needs_background": "light"
     },
     "output_type": "display_data"
    }
   ],
   "source": [
    "plt.figure(figsize=(20,15))\n",
    "i=1\n",
    "for y in df:\n",
    "    if i<=15:\n",
    "        ax=plt.subplot(5,3,i)\n",
    "        sns.distplot(df[y])\n",
    "        plt.xlabel(y,fontsize=14)\n",
    "    i+=1\n",
    "plt.tight_layout()"
   ]
  },
  {
   "cell_type": "code",
   "execution_count": 45,
   "id": "e9fd4b52",
   "metadata": {},
   "outputs": [
    {
     "data": {
      "image/png": "[encoded data removed]",
      "text/plain": [
       "<Figure size 1080x1440 with 12 Axes>"
      ]
     },
     "metadata": {
      "needs_background": "light"
     },
     "output_type": "display_data"
    }
   ],
   "source": [
    "x=df.columns.values\n",
    "plt.figure(figsize=(15,20))\n",
    "for i in range(0,len(x)):\n",
    "    plt.subplot(10,4,i+1)\n",
    "    sns.boxplot(df[x[i]])\n",
    "    plt.tight_layout()"
   ]
  },
  {
   "cell_type": "code",
   "execution_count": 46,
   "id": "95cb9c9c",
   "metadata": {},
   "outputs": [
    {
     "name": "stdout",
     "output_type": "stream",
     "text": [
      "Feature Dimension (907, 11)\n",
      "Label Dimension (907,)\n"
     ]
    }
   ],
   "source": [
    "X=df.drop(columns=['primary_fuel'],axis=1)\n",
    "Y=df['primary_fuel']\n",
    "print(\"Feature Dimension\",X.shape)\n",
    "print(\"Label Dimension\",Y.shape)   #no of rows should be same in features and label"
   ]
  },
  {
   "cell_type": "code",
   "execution_count": 47,
   "id": "84d105d1",
   "metadata": {},
   "outputs": [
    {
     "data": {
      "text/plain": [
       "(array([ 15,  15,  15,  15,  15,  71,  80, 143, 143, 143, 143, 143, 143,\n",
       "        147, 158, 179, 183, 191, 209, 209, 209, 209, 209, 209, 222, 244,\n",
       "        299, 308, 308, 308, 308, 308, 308, 321, 323, 333, 340, 342, 345,\n",
       "        360, 363, 364, 364, 364, 364, 364, 364, 371, 375, 414, 414, 414,\n",
       "        416, 427, 444, 454, 478, 482, 484, 493, 493, 493, 493, 493, 493,\n",
       "        494, 494, 494, 494, 494, 494, 499, 519, 532, 538, 541, 546, 573,\n",
       "        577, 583, 601, 621, 638, 648, 648, 648, 648, 648, 648, 657, 657,\n",
       "        657, 657, 657, 657, 661, 669, 689, 695, 695, 695, 695, 695, 695,\n",
       "        706, 709, 721, 721, 721, 721, 721, 724, 724, 724, 724, 724, 726,\n",
       "        726, 726, 726, 726, 726, 728, 767, 786, 786, 786, 786, 786, 786,\n",
       "        788, 807, 808, 808, 808, 808, 808, 808, 818, 832, 847, 848, 870,\n",
       "        871, 879, 880, 880, 880, 880, 880, 880, 895, 900], dtype=int64),\n",
       " array([ 0,  7,  8,  9, 10,  4,  4,  0,  6,  7,  8,  9, 10,  0,  6,  2,  2,\n",
       "         4,  0,  6,  7,  8,  9, 10,  3,  2,  4,  0,  6,  7,  8,  9, 10,  4,\n",
       "         2,  2,  2,  3,  4,  2,  0,  0,  6,  7,  8,  9, 10,  3,  0,  6,  8,\n",
       "         9,  2,  2,  3,  3,  3,  0,  3,  0,  6,  7,  8,  9, 10,  0,  6,  7,\n",
       "         8,  9, 10,  2,  2,  6,  3,  3,  2,  3,  2,  3,  3,  3,  2,  0,  6,\n",
       "         7,  8,  9, 10,  0,  6,  7,  8,  9, 10,  4,  4,  4,  0,  6,  7,  8,\n",
       "         9, 10,  3,  3,  6,  7,  8,  9, 10,  6,  7,  8,  9, 10,  0,  6,  7,\n",
       "         8,  9, 10,  3,  0,  0,  6,  7,  8,  9, 10,  0,  3,  0,  6,  7,  8,\n",
       "         9, 10,  2,  4,  2,  3,  4,  4,  4,  0,  6,  7,  8,  9, 10,  4,  4],\n",
       "       dtype=int64))"
      ]
     },
     "execution_count": 47,
     "metadata": {},
     "output_type": "execute_result"
    }
   ],
   "source": [
    "from scipy.stats import zscore\n",
    "z=np.abs(zscore(X))\n",
    "z\n",
    "threshold=3\n",
    "np.where(z>3)"
   ]
  },
  {
   "cell_type": "code",
   "execution_count": 48,
   "id": "4e3cce96",
   "metadata": {},
   "outputs": [
    {
     "data": {
      "text/plain": [
       "(833, 12)"
      ]
     },
     "execution_count": 48,
     "metadata": {},
     "output_type": "execute_result"
    }
   ],
   "source": [
    "df1=df[(z<3).all(axis=1)]\n",
    "df1.shape"
   ]
  },
  {
   "cell_type": "code",
   "execution_count": 49,
   "id": "3a1c87b8",
   "metadata": {},
   "outputs": [
    {
     "name": "stdout",
     "output_type": "stream",
     "text": [
      "Old df:  907\n",
      "New df 833\n"
     ]
    }
   ],
   "source": [
    "print(\"Old df: \", df.shape[0])\n",
    "print(\"New df\",df1.shape[0])"
   ]
  },
  {
   "cell_type": "code",
   "execution_count": 50,
   "id": "c896d68d",
   "metadata": {},
   "outputs": [
    {
     "data": {
      "text/plain": [
       "(833,)"
      ]
     },
     "execution_count": 50,
     "metadata": {},
     "output_type": "execute_result"
    }
   ],
   "source": [
    "Y=Y[(z<3).all(axis=1)]\n",
    "Y.shape"
   ]
  },
  {
   "cell_type": "code",
   "execution_count": 51,
   "id": "130b4334",
   "metadata": {},
   "outputs": [
    {
     "name": "stdout",
     "output_type": "stream",
     "text": [
      "Data Loss Percentage:  8.158765159867695\n"
     ]
    }
   ],
   "source": [
    "print(\"Data Loss Percentage: \", ((df.shape[0]-df1.shape[0])/df.shape[0]*100))"
   ]
  },
  {
   "cell_type": "code",
   "execution_count": 52,
   "id": "bbf47dcc",
   "metadata": {},
   "outputs": [
    {
     "data": {
      "text/plain": [
       "capacity_mw            1.954723\n",
       "latitude              -0.109463\n",
       "longitude              0.913793\n",
       "primary_fuel           0.411789\n",
       "commissioning_year    -1.510272\n",
       "source                 1.785863\n",
       "geolocation_source    -2.102192\n",
       "generation_gwh_2014    2.576784\n",
       "generation_gwh_2015    2.553074\n",
       "generation_gwh_2016    2.537781\n",
       "generation_gwh_2017    2.469980\n",
       "generation_gwh_2018    2.504529\n",
       "dtype: float64"
      ]
     },
     "execution_count": 52,
     "metadata": {},
     "output_type": "execute_result"
    }
   ],
   "source": [
    "df1.skew()"
   ]
  },
  {
   "cell_type": "code",
   "execution_count": 53,
   "id": "3a59c6ff",
   "metadata": {},
   "outputs": [],
   "source": [
    "df1['capacity_mw']=np.cbrt(df1['capacity_mw'])\n",
    "df1['source']=np.cbrt(df1['source'])\n",
    "df1['geolocation_source']=np.cbrt(df1['geolocation_source'])\n",
    "df1['generation_gwh_2014']=np.cbrt(df1['generation_gwh_2014'])\n",
    "df1['generation_gwh_2015']=np.cbrt(df1['generation_gwh_2015'])\n",
    "df1['generation_gwh_2016']=np.cbrt(df1['generation_gwh_2016'])\n",
    "df1['generation_gwh_2017']=np.cbrt(df1['generation_gwh_2017'])\n",
    "df1['generation_gwh_2018']=np.cbrt(df1['generation_gwh_2018'])"
   ]
  },
  {
   "cell_type": "code",
   "execution_count": 54,
   "id": "09d92cc1",
   "metadata": {},
   "outputs": [
    {
     "data": {
      "text/plain": [
       "capacity_mw            0.815324\n",
       "latitude              -0.109463\n",
       "longitude              0.913793\n",
       "primary_fuel           0.411789\n",
       "commissioning_year    -1.510272\n",
       "source                 1.270764\n",
       "geolocation_source    -2.125327\n",
       "generation_gwh_2014    1.032707\n",
       "generation_gwh_2015    1.110277\n",
       "generation_gwh_2016    1.084893\n",
       "generation_gwh_2017    1.143897\n",
       "generation_gwh_2018    1.181430\n",
       "dtype: float64"
      ]
     },
     "execution_count": 54,
     "metadata": {},
     "output_type": "execute_result"
    }
   ],
   "source": [
    "df1.skew()"
   ]
  },
  {
   "cell_type": "code",
   "execution_count": 55,
   "id": "fd4ba79c",
   "metadata": {},
   "outputs": [
    {
     "data": {
      "text/html": [
       "<div>\n",
       "<style scoped>\n",
       "    .dataframe tbody tr th:only-of-type {\n",
       "        vertical-align: middle;\n",
       "    }\n",
       "\n",
       "    .dataframe tbody tr th {\n",
       "        vertical-align: top;\n",
       "    }\n",
       "\n",
       "    .dataframe thead th {\n",
       "        text-align: right;\n",
       "    }\n",
       "</style>\n",
       "<table border=\"1\" class=\"dataframe\">\n",
       "  <thead>\n",
       "    <tr style=\"text-align: right;\">\n",
       "      <th></th>\n",
       "      <th>capacity_mw</th>\n",
       "      <th>latitude</th>\n",
       "      <th>longitude</th>\n",
       "      <th>commissioning_year</th>\n",
       "      <th>source</th>\n",
       "      <th>geolocation_source</th>\n",
       "      <th>generation_gwh_2014</th>\n",
       "      <th>generation_gwh_2015</th>\n",
       "      <th>generation_gwh_2016</th>\n",
       "      <th>generation_gwh_2017</th>\n",
       "      <th>generation_gwh_2018</th>\n",
       "    </tr>\n",
       "  </thead>\n",
       "  <tbody>\n",
       "    <tr>\n",
       "      <th>0</th>\n",
       "      <td>2.5</td>\n",
       "      <td>28.1839</td>\n",
       "      <td>73.2407</td>\n",
       "      <td>2011.0</td>\n",
       "      <td>109.0</td>\n",
       "      <td>1.0</td>\n",
       "      <td>16.779017</td>\n",
       "      <td>13.293200</td>\n",
       "      <td>8.974900</td>\n",
       "      <td>22.244883</td>\n",
       "      <td>47.968950</td>\n",
       "    </tr>\n",
       "    <tr>\n",
       "      <th>1</th>\n",
       "      <td>98.0</td>\n",
       "      <td>24.7663</td>\n",
       "      <td>74.6090</td>\n",
       "      <td>2015.0</td>\n",
       "      <td>174.0</td>\n",
       "      <td>2.0</td>\n",
       "      <td>324.532517</td>\n",
       "      <td>168.964267</td>\n",
       "      <td>253.214233</td>\n",
       "      <td>210.319783</td>\n",
       "      <td>299.083733</td>\n",
       "    </tr>\n",
       "    <tr>\n",
       "      <th>2</th>\n",
       "      <td>39.2</td>\n",
       "      <td>21.9038</td>\n",
       "      <td>69.3732</td>\n",
       "      <td>2015.0</td>\n",
       "      <td>21.0</td>\n",
       "      <td>2.0</td>\n",
       "      <td>85.185267</td>\n",
       "      <td>112.481433</td>\n",
       "      <td>114.819683</td>\n",
       "      <td>185.902483</td>\n",
       "      <td>198.180783</td>\n",
       "    </tr>\n",
       "    <tr>\n",
       "      <th>3</th>\n",
       "      <td>135.0</td>\n",
       "      <td>23.8712</td>\n",
       "      <td>91.3602</td>\n",
       "      <td>2004.0</td>\n",
       "      <td>22.0</td>\n",
       "      <td>2.0</td>\n",
       "      <td>617.789264</td>\n",
       "      <td>843.747000</td>\n",
       "      <td>886.004428</td>\n",
       "      <td>663.774500</td>\n",
       "      <td>626.239128</td>\n",
       "    </tr>\n",
       "    <tr>\n",
       "      <th>4</th>\n",
       "      <td>1800.0</td>\n",
       "      <td>21.9603</td>\n",
       "      <td>82.4091</td>\n",
       "      <td>2015.0</td>\n",
       "      <td>22.0</td>\n",
       "      <td>2.0</td>\n",
       "      <td>3035.550000</td>\n",
       "      <td>5916.370000</td>\n",
       "      <td>6243.000000</td>\n",
       "      <td>5385.579736</td>\n",
       "      <td>7279.000000</td>\n",
       "    </tr>\n",
       "  </tbody>\n",
       "</table>\n",
       "</div>"
      ],
      "text/plain": [
       "   capacity_mw  latitude  longitude  commissioning_year  source  \\\n",
       "0          2.5   28.1839    73.2407              2011.0   109.0   \n",
       "1         98.0   24.7663    74.6090              2015.0   174.0   \n",
       "2         39.2   21.9038    69.3732              2015.0    21.0   \n",
       "3        135.0   23.8712    91.3602              2004.0    22.0   \n",
       "4       1800.0   21.9603    82.4091              2015.0    22.0   \n",
       "\n",
       "   geolocation_source  generation_gwh_2014  generation_gwh_2015  \\\n",
       "0                 1.0            16.779017            13.293200   \n",
       "1                 2.0           324.532517           168.964267   \n",
       "2                 2.0            85.185267           112.481433   \n",
       "3                 2.0           617.789264           843.747000   \n",
       "4                 2.0          3035.550000          5916.370000   \n",
       "\n",
       "   generation_gwh_2016  generation_gwh_2017  generation_gwh_2018  \n",
       "0             8.974900            22.244883            47.968950  \n",
       "1           253.214233           210.319783           299.083733  \n",
       "2           114.819683           185.902483           198.180783  \n",
       "3           886.004428           663.774500           626.239128  \n",
       "4          6243.000000          5385.579736          7279.000000  "
      ]
     },
     "execution_count": 55,
     "metadata": {},
     "output_type": "execute_result"
    }
   ],
   "source": [
    "x=df.drop('primary_fuel',axis=1)\n",
    "y=df['primary_fuel']\n",
    "x.head()"
   ]
  },
  {
   "cell_type": "code",
   "execution_count": 56,
   "id": "58ada6a1",
   "metadata": {},
   "outputs": [
    {
     "data": {
      "text/html": [
       "<div>\n",
       "<style scoped>\n",
       "    .dataframe tbody tr th:only-of-type {\n",
       "        vertical-align: middle;\n",
       "    }\n",
       "\n",
       "    .dataframe tbody tr th {\n",
       "        vertical-align: top;\n",
       "    }\n",
       "\n",
       "    .dataframe thead th {\n",
       "        text-align: right;\n",
       "    }\n",
       "</style>\n",
       "<table border=\"1\" class=\"dataframe\">\n",
       "  <thead>\n",
       "    <tr style=\"text-align: right;\">\n",
       "      <th></th>\n",
       "      <th>capacity_mw</th>\n",
       "      <th>latitude</th>\n",
       "      <th>longitude</th>\n",
       "      <th>commissioning_year</th>\n",
       "      <th>source</th>\n",
       "      <th>geolocation_source</th>\n",
       "      <th>generation_gwh_2014</th>\n",
       "      <th>generation_gwh_2015</th>\n",
       "      <th>generation_gwh_2016</th>\n",
       "      <th>generation_gwh_2017</th>\n",
       "      <th>generation_gwh_2018</th>\n",
       "    </tr>\n",
       "  </thead>\n",
       "  <tbody>\n",
       "    <tr>\n",
       "      <th>0</th>\n",
       "      <td>-0.548908</td>\n",
       "      <td>1.149805</td>\n",
       "      <td>-0.878280</td>\n",
       "      <td>0.407327</td>\n",
       "      <td>1.460215</td>\n",
       "      <td>-1.083349</td>\n",
       "      <td>-0.407783</td>\n",
       "      <td>-0.388685</td>\n",
       "      <td>-0.394962</td>\n",
       "      <td>-0.399239</td>\n",
       "      <td>-0.395075</td>\n",
       "    </tr>\n",
       "    <tr>\n",
       "      <th>1</th>\n",
       "      <td>-0.386977</td>\n",
       "      <td>0.587311</td>\n",
       "      <td>-0.593788</td>\n",
       "      <td>0.661679</td>\n",
       "      <td>2.917019</td>\n",
       "      <td>0.394241</td>\n",
       "      <td>-0.303199</td>\n",
       "      <td>-0.338753</td>\n",
       "      <td>-0.317101</td>\n",
       "      <td>-0.340211</td>\n",
       "      <td>-0.318779</td>\n",
       "    </tr>\n",
       "    <tr>\n",
       "      <th>2</th>\n",
       "      <td>-0.486679</td>\n",
       "      <td>0.116179</td>\n",
       "      <td>-1.682394</td>\n",
       "      <td>0.661679</td>\n",
       "      <td>-0.512075</td>\n",
       "      <td>0.394241</td>\n",
       "      <td>-0.384536</td>\n",
       "      <td>-0.356870</td>\n",
       "      <td>-0.361220</td>\n",
       "      <td>-0.347875</td>\n",
       "      <td>-0.349436</td>\n",
       "    </tr>\n",
       "    <tr>\n",
       "      <th>3</th>\n",
       "      <td>-0.324240</td>\n",
       "      <td>0.439989</td>\n",
       "      <td>2.889052</td>\n",
       "      <td>-0.037788</td>\n",
       "      <td>-0.489662</td>\n",
       "      <td>0.394241</td>\n",
       "      <td>-0.203542</td>\n",
       "      <td>-0.122313</td>\n",
       "      <td>-0.115372</td>\n",
       "      <td>-0.197893</td>\n",
       "      <td>-0.219380</td>\n",
       "    </tr>\n",
       "    <tr>\n",
       "      <th>4</th>\n",
       "      <td>2.498942</td>\n",
       "      <td>0.125479</td>\n",
       "      <td>1.027976</td>\n",
       "      <td>0.661679</td>\n",
       "      <td>-0.489662</td>\n",
       "      <td>0.394241</td>\n",
       "      <td>0.618085</td>\n",
       "      <td>1.504758</td>\n",
       "      <td>1.592397</td>\n",
       "      <td>1.284064</td>\n",
       "      <td>1.801917</td>\n",
       "    </tr>\n",
       "    <tr>\n",
       "      <th>...</th>\n",
       "      <td>...</td>\n",
       "      <td>...</td>\n",
       "      <td>...</td>\n",
       "      <td>...</td>\n",
       "      <td>...</td>\n",
       "      <td>...</td>\n",
       "      <td>...</td>\n",
       "      <td>...</td>\n",
       "      <td>...</td>\n",
       "      <td>...</td>\n",
       "      <td>...</td>\n",
       "    </tr>\n",
       "    <tr>\n",
       "      <th>902</th>\n",
       "      <td>2.159821</td>\n",
       "      <td>-0.806975</td>\n",
       "      <td>-0.022477</td>\n",
       "      <td>0.725267</td>\n",
       "      <td>-0.489662</td>\n",
       "      <td>0.394241</td>\n",
       "      <td>0.841002</td>\n",
       "      <td>-0.392630</td>\n",
       "      <td>-0.323355</td>\n",
       "      <td>-0.134612</td>\n",
       "      <td>-0.201071</td>\n",
       "    </tr>\n",
       "    <tr>\n",
       "      <th>903</th>\n",
       "      <td>-0.548060</td>\n",
       "      <td>-1.366853</td>\n",
       "      <td>0.145644</td>\n",
       "      <td>0.661679</td>\n",
       "      <td>0.743019</td>\n",
       "      <td>-2.560940</td>\n",
       "      <td>-0.407783</td>\n",
       "      <td>-0.388685</td>\n",
       "      <td>-0.394962</td>\n",
       "      <td>-0.399239</td>\n",
       "      <td>-0.395075</td>\n",
       "    </tr>\n",
       "    <tr>\n",
       "      <th>904</th>\n",
       "      <td>-0.509909</td>\n",
       "      <td>-0.974707</td>\n",
       "      <td>-0.391673</td>\n",
       "      <td>0.661679</td>\n",
       "      <td>-0.512075</td>\n",
       "      <td>0.394241</td>\n",
       "      <td>-0.407783</td>\n",
       "      <td>-0.388685</td>\n",
       "      <td>-0.394962</td>\n",
       "      <td>-0.399239</td>\n",
       "      <td>-0.395075</td>\n",
       "    </tr>\n",
       "    <tr>\n",
       "      <th>905</th>\n",
       "      <td>-0.417498</td>\n",
       "      <td>0.518793</td>\n",
       "      <td>-0.772866</td>\n",
       "      <td>0.661679</td>\n",
       "      <td>0.339596</td>\n",
       "      <td>0.394241</td>\n",
       "      <td>-0.340967</td>\n",
       "      <td>-0.332867</td>\n",
       "      <td>-0.328925</td>\n",
       "      <td>-0.329901</td>\n",
       "      <td>-0.331681</td>\n",
       "    </tr>\n",
       "    <tr>\n",
       "      <th>906</th>\n",
       "      <td>-0.525169</td>\n",
       "      <td>-1.853834</td>\n",
       "      <td>0.002473</td>\n",
       "      <td>0.661679</td>\n",
       "      <td>-0.512075</td>\n",
       "      <td>0.394241</td>\n",
       "      <td>-0.407783</td>\n",
       "      <td>-0.388685</td>\n",
       "      <td>-0.394962</td>\n",
       "      <td>-0.399239</td>\n",
       "      <td>-0.395075</td>\n",
       "    </tr>\n",
       "  </tbody>\n",
       "</table>\n",
       "<p>907 rows × 11 columns</p>\n",
       "</div>"
      ],
      "text/plain": [
       "     capacity_mw  latitude  longitude  commissioning_year    source  \\\n",
       "0      -0.548908  1.149805  -0.878280            0.407327  1.460215   \n",
       "1      -0.386977  0.587311  -0.593788            0.661679  2.917019   \n",
       "2      -0.486679  0.116179  -1.682394            0.661679 -0.512075   \n",
       "3      -0.324240  0.439989   2.889052           -0.037788 -0.489662   \n",
       "4       2.498942  0.125479   1.027976            0.661679 -0.489662   \n",
       "..           ...       ...        ...                 ...       ...   \n",
       "902     2.159821 -0.806975  -0.022477            0.725267 -0.489662   \n",
       "903    -0.548060 -1.366853   0.145644            0.661679  0.743019   \n",
       "904    -0.509909 -0.974707  -0.391673            0.661679 -0.512075   \n",
       "905    -0.417498  0.518793  -0.772866            0.661679  0.339596   \n",
       "906    -0.525169 -1.853834   0.002473            0.661679 -0.512075   \n",
       "\n",
       "     geolocation_source  generation_gwh_2014  generation_gwh_2015  \\\n",
       "0             -1.083349            -0.407783            -0.388685   \n",
       "1              0.394241            -0.303199            -0.338753   \n",
       "2              0.394241            -0.384536            -0.356870   \n",
       "3              0.394241            -0.203542            -0.122313   \n",
       "4              0.394241             0.618085             1.504758   \n",
       "..                  ...                  ...                  ...   \n",
       "902            0.394241             0.841002            -0.392630   \n",
       "903           -2.560940            -0.407783            -0.388685   \n",
       "904            0.394241            -0.407783            -0.388685   \n",
       "905            0.394241            -0.340967            -0.332867   \n",
       "906            0.394241            -0.407783            -0.388685   \n",
       "\n",
       "     generation_gwh_2016  generation_gwh_2017  generation_gwh_2018  \n",
       "0              -0.394962            -0.399239            -0.395075  \n",
       "1              -0.317101            -0.340211            -0.318779  \n",
       "2              -0.361220            -0.347875            -0.349436  \n",
       "3              -0.115372            -0.197893            -0.219380  \n",
       "4               1.592397             1.284064             1.801917  \n",
       "..                   ...                  ...                  ...  \n",
       "902            -0.323355            -0.134612            -0.201071  \n",
       "903            -0.394962            -0.399239            -0.395075  \n",
       "904            -0.394962            -0.399239            -0.395075  \n",
       "905            -0.328925            -0.329901            -0.331681  \n",
       "906            -0.394962            -0.399239            -0.395075  \n",
       "\n",
       "[907 rows x 11 columns]"
      ]
     },
     "execution_count": 56,
     "metadata": {},
     "output_type": "execute_result"
    }
   ],
   "source": [
    "from sklearn.preprocessing import StandardScaler\n",
    "\n",
    "scaler = StandardScaler()\n",
    "X = pd.DataFrame(scaler.fit_transform(X), columns=X.columns)\n",
    "X"
   ]
  },
  {
   "cell_type": "code",
   "execution_count": 57,
   "id": "9772f2f2",
   "metadata": {},
   "outputs": [
    {
     "data": {
      "text/html": [
       "<div>\n",
       "<style scoped>\n",
       "    .dataframe tbody tr th:only-of-type {\n",
       "        vertical-align: middle;\n",
       "    }\n",
       "\n",
       "    .dataframe tbody tr th {\n",
       "        vertical-align: top;\n",
       "    }\n",
       "\n",
       "    .dataframe thead th {\n",
       "        text-align: right;\n",
       "    }\n",
       "</style>\n",
       "<table border=\"1\" class=\"dataframe\">\n",
       "  <thead>\n",
       "    <tr style=\"text-align: right;\">\n",
       "      <th></th>\n",
       "      <th>VIF values</th>\n",
       "      <th>Features</th>\n",
       "    </tr>\n",
       "  </thead>\n",
       "  <tbody>\n",
       "    <tr>\n",
       "      <th>0</th>\n",
       "      <td>6.548360</td>\n",
       "      <td>capacity_mw</td>\n",
       "    </tr>\n",
       "    <tr>\n",
       "      <th>1</th>\n",
       "      <td>1.053441</td>\n",
       "      <td>latitude</td>\n",
       "    </tr>\n",
       "    <tr>\n",
       "      <th>2</th>\n",
       "      <td>1.133600</td>\n",
       "      <td>longitude</td>\n",
       "    </tr>\n",
       "    <tr>\n",
       "      <th>3</th>\n",
       "      <td>1.174311</td>\n",
       "      <td>commissioning_year</td>\n",
       "    </tr>\n",
       "    <tr>\n",
       "      <th>4</th>\n",
       "      <td>1.488444</td>\n",
       "      <td>source</td>\n",
       "    </tr>\n",
       "    <tr>\n",
       "      <th>5</th>\n",
       "      <td>1.465906</td>\n",
       "      <td>geolocation_source</td>\n",
       "    </tr>\n",
       "    <tr>\n",
       "      <th>6</th>\n",
       "      <td>13.219376</td>\n",
       "      <td>generation_gwh_2014</td>\n",
       "    </tr>\n",
       "    <tr>\n",
       "      <th>7</th>\n",
       "      <td>30.655864</td>\n",
       "      <td>generation_gwh_2015</td>\n",
       "    </tr>\n",
       "    <tr>\n",
       "      <th>8</th>\n",
       "      <td>40.801104</td>\n",
       "      <td>generation_gwh_2016</td>\n",
       "    </tr>\n",
       "    <tr>\n",
       "      <th>9</th>\n",
       "      <td>55.956842</td>\n",
       "      <td>generation_gwh_2017</td>\n",
       "    </tr>\n",
       "    <tr>\n",
       "      <th>10</th>\n",
       "      <td>47.709707</td>\n",
       "      <td>generation_gwh_2018</td>\n",
       "    </tr>\n",
       "  </tbody>\n",
       "</table>\n",
       "</div>"
      ],
      "text/plain": [
       "    VIF values             Features\n",
       "0     6.548360          capacity_mw\n",
       "1     1.053441             latitude\n",
       "2     1.133600            longitude\n",
       "3     1.174311   commissioning_year\n",
       "4     1.488444               source\n",
       "5     1.465906   geolocation_source\n",
       "6    13.219376  generation_gwh_2014\n",
       "7    30.655864  generation_gwh_2015\n",
       "8    40.801104  generation_gwh_2016\n",
       "9    55.956842  generation_gwh_2017\n",
       "10   47.709707  generation_gwh_2018"
      ]
     },
     "execution_count": 57,
     "metadata": {},
     "output_type": "execute_result"
    }
   ],
   "source": [
    "from statsmodels.stats.outliers_influence import variance_inflation_factor\n",
    "vif = pd.DataFrame()\n",
    "vif[\"VIF values\"] = [variance_inflation_factor(X.values,i)\n",
    "              for i in range(len(X.columns))]\n",
    "vif[\"Features\"] = X.columns\n",
    "vif"
   ]
  },
  {
   "cell_type": "code",
   "execution_count": 58,
   "id": "b8e27e70",
   "metadata": {},
   "outputs": [],
   "source": [
    "X.drop(\"generation_gwh_2017\",axis=1,inplace=True)"
   ]
  },
  {
   "cell_type": "code",
   "execution_count": 59,
   "id": "170980f4",
   "metadata": {},
   "outputs": [
    {
     "data": {
      "text/html": [
       "<div>\n",
       "<style scoped>\n",
       "    .dataframe tbody tr th:only-of-type {\n",
       "        vertical-align: middle;\n",
       "    }\n",
       "\n",
       "    .dataframe tbody tr th {\n",
       "        vertical-align: top;\n",
       "    }\n",
       "\n",
       "    .dataframe thead th {\n",
       "        text-align: right;\n",
       "    }\n",
       "</style>\n",
       "<table border=\"1\" class=\"dataframe\">\n",
       "  <thead>\n",
       "    <tr style=\"text-align: right;\">\n",
       "      <th></th>\n",
       "      <th>VIF values</th>\n",
       "      <th>Features</th>\n",
       "    </tr>\n",
       "  </thead>\n",
       "  <tbody>\n",
       "    <tr>\n",
       "      <th>0</th>\n",
       "      <td>6.525488</td>\n",
       "      <td>capacity_mw</td>\n",
       "    </tr>\n",
       "    <tr>\n",
       "      <th>1</th>\n",
       "      <td>1.051848</td>\n",
       "      <td>latitude</td>\n",
       "    </tr>\n",
       "    <tr>\n",
       "      <th>2</th>\n",
       "      <td>1.132331</td>\n",
       "      <td>longitude</td>\n",
       "    </tr>\n",
       "    <tr>\n",
       "      <th>3</th>\n",
       "      <td>1.174296</td>\n",
       "      <td>commissioning_year</td>\n",
       "    </tr>\n",
       "    <tr>\n",
       "      <th>4</th>\n",
       "      <td>1.488156</td>\n",
       "      <td>source</td>\n",
       "    </tr>\n",
       "    <tr>\n",
       "      <th>5</th>\n",
       "      <td>1.465825</td>\n",
       "      <td>geolocation_source</td>\n",
       "    </tr>\n",
       "    <tr>\n",
       "      <th>6</th>\n",
       "      <td>13.091036</td>\n",
       "      <td>generation_gwh_2014</td>\n",
       "    </tr>\n",
       "    <tr>\n",
       "      <th>7</th>\n",
       "      <td>29.939968</td>\n",
       "      <td>generation_gwh_2015</td>\n",
       "    </tr>\n",
       "    <tr>\n",
       "      <th>8</th>\n",
       "      <td>33.216416</td>\n",
       "      <td>generation_gwh_2016</td>\n",
       "    </tr>\n",
       "    <tr>\n",
       "      <th>9</th>\n",
       "      <td>19.369172</td>\n",
       "      <td>generation_gwh_2018</td>\n",
       "    </tr>\n",
       "  </tbody>\n",
       "</table>\n",
       "</div>"
      ],
      "text/plain": [
       "   VIF values             Features\n",
       "0    6.525488          capacity_mw\n",
       "1    1.051848             latitude\n",
       "2    1.132331            longitude\n",
       "3    1.174296   commissioning_year\n",
       "4    1.488156               source\n",
       "5    1.465825   geolocation_source\n",
       "6   13.091036  generation_gwh_2014\n",
       "7   29.939968  generation_gwh_2015\n",
       "8   33.216416  generation_gwh_2016\n",
       "9   19.369172  generation_gwh_2018"
      ]
     },
     "execution_count": 59,
     "metadata": {},
     "output_type": "execute_result"
    }
   ],
   "source": [
    "from statsmodels.stats.outliers_influence import variance_inflation_factor\n",
    "vif = pd.DataFrame()\n",
    "vif[\"VIF values\"] = [variance_inflation_factor(X.values,i)\n",
    "              for i in range(len(X.columns))]\n",
    "vif[\"Features\"] = X.columns\n",
    "vif"
   ]
  },
  {
   "cell_type": "code",
   "execution_count": 60,
   "id": "9776d226",
   "metadata": {},
   "outputs": [
    {
     "name": "stdout",
     "output_type": "stream",
     "text": [
      "Max r2 score is  0.5563928710717557 on Random_state 902\n"
     ]
    }
   ],
   "source": [
    "from sklearn.linear_model import LinearRegression\n",
    "from sklearn.model_selection import train_test_split\n",
    "from sklearn.metrics import r2_score, mean_squared_error,mean_absolute_error\n",
    "from sklearn.ensemble import GradientBoostingRegressor\n",
    "maxAccu=0\n",
    "maxRs=0\n",
    "for i in range(0,1000):\n",
    "    x_train,x_test,y_train,y_test=train_test_split(x,y,random_state=i,test_size=0.20)\n",
    "    lr=LinearRegression()\n",
    "    lr.fit(x_train,y_train)\n",
    "    pred=lr.predict(x_test)\n",
    "    acc=r2_score(y_test,pred)\n",
    "    if acc>maxAccu:\n",
    "        maxAccu=acc\n",
    "        maxRs=i\n",
    "print(\"Max r2 score is \",maxAccu,\"on Random_state\",maxRs)"
   ]
  },
  {
   "cell_type": "code",
   "execution_count": 61,
   "id": "2dbf5b7c",
   "metadata": {},
   "outputs": [],
   "source": [
    " x_train,x_test,y_train,y_test=train_test_split(x,y,random_state=maxRs,test_size=0.20)"
   ]
  },
  {
   "cell_type": "code",
   "execution_count": 62,
   "id": "171b4d98",
   "metadata": {},
   "outputs": [],
   "source": [
    "from sklearn.linear_model import LinearRegression\n",
    "from sklearn.ensemble import RandomForestRegressor\n",
    "from sklearn.tree import DecisionTreeRegressor\n",
    "from sklearn.neighbors import KNeighborsRegressor as KNN\n",
    "from sklearn.linear_model import Lasso,Ridge"
   ]
  },
  {
   "cell_type": "code",
   "execution_count": 63,
   "id": "a361a655",
   "metadata": {},
   "outputs": [
    {
     "name": "stdout",
     "output_type": "stream",
     "text": [
      "r2_score: 0.5563928710717557\n",
      "r2_score on training data: 55.63928710717557\n",
      "Mean absolute error: 1.1981791830193922\n",
      "mean_squared_error: 2.338633464831984\n",
      "Root mean_squared_error 1.5292591228539343\n"
     ]
    }
   ],
   "source": [
    "LR=LinearRegression()\n",
    "LR.fit(x_train,y_train)\n",
    "pred_LR=LR.predict(x_test)\n",
    "pred_train=LR.predict(x_train)\n",
    "print(\"r2_score:\",r2_score(y_test,pred_LR))\n",
    "print(\"r2_score on training data:\",r2_score(y_test,pred_LR)*100)\n",
    "print( \"Mean absolute error:\",mean_absolute_error(y_test,pred_LR))\n",
    "print( \"mean_squared_error:\",mean_squared_error(y_test,pred_LR))\n",
    "print(\"Root mean_squared_error\",np.sqrt(mean_squared_error(y_test,pred_LR)))"
   ]
  },
  {
   "cell_type": "code",
   "execution_count": 64,
   "id": "a7b43f19",
   "metadata": {},
   "outputs": [
    {
     "name": "stdout",
     "output_type": "stream",
     "text": [
      "r2_score: 0.9237848097351468\n",
      "r2_score on training data: 92.37848097351467\n",
      "Mean absolute error: 0.34186813186813186\n",
      "mean_squared_error: 0.4017956043956044\n",
      "Root mean_squared_error 0.6338734924222691\n"
     ]
    }
   ],
   "source": [
    "RFR=RandomForestRegressor()\n",
    "RFR.fit(x_train,y_train)\n",
    "pred_RFR=RFR.predict(x_test)\n",
    "pred_train=RFR.predict(x_train)\n",
    "print(\"r2_score:\",r2_score(y_test,pred_RFR))\n",
    "print(\"r2_score on training data:\",r2_score(y_test,pred_RFR)*100)\n",
    "print( \"Mean absolute error:\",mean_absolute_error(y_test,pred_RFR))\n",
    "print( \"mean_squared_error:\",mean_squared_error(y_test,pred_RFR))\n",
    "print(\"Root mean_squared_error\",np.sqrt(mean_squared_error(y_test,pred_RFR)))"
   ]
  },
  {
   "cell_type": "code",
   "execution_count": 65,
   "id": "94555909",
   "metadata": {},
   "outputs": [
    {
     "name": "stdout",
     "output_type": "stream",
     "text": [
      "r2_score: 0.39704715819613456\n",
      "r2_score on training data: 39.704715819613455\n",
      "Mean absolute error: 1.2142857142857142\n",
      "mean_squared_error: 3.1786813186813188\n",
      "Root mean_squared_error 1.7828856717920303\n"
     ]
    }
   ],
   "source": [
    "knn=KNN()\n",
    "knn.fit(x_train,y_train)\n",
    "pred_knn=knn.predict(x_test)\n",
    "pred_train=knn.predict(x_train)\n",
    "print(\"r2_score:\",r2_score(y_test,pred_knn))\n",
    "print(\"r2_score on training data:\",r2_score(y_test,pred_knn)*100)\n",
    "print( \"Mean absolute error:\",mean_absolute_error(y_test,pred_knn))\n",
    "print( \"mean_squared_error:\",mean_squared_error(y_test,pred_knn))\n",
    "print(\"Root mean_squared_error\",np.sqrt(mean_squared_error(y_test,pred_knn)))"
   ]
  },
  {
   "cell_type": "code",
   "execution_count": 66,
   "id": "b1a2cb30",
   "metadata": {},
   "outputs": [
    {
     "name": "stdout",
     "output_type": "stream",
     "text": [
      "r2_score: 0.9286160509800818\n",
      "r2_score on training data: 92.86160509800818\n",
      "Mean absolute error: 0.40391804794192504\n",
      "mean_squared_error: 0.37632599014621443\n",
      "Root mean_squared_error 0.6134541467348757\n"
     ]
    }
   ],
   "source": [
    "GBR=GradientBoostingRegressor()\n",
    "GBR.fit(x_train,y_train)\n",
    "pred_GBR=GBR.predict(x_test)\n",
    "pred_train=GBR.predict(x_train)\n",
    "print(\"r2_score:\",r2_score(y_test,pred_GBR))\n",
    "print(\"r2_score on training data:\",r2_score(y_test,pred_GBR)*100)\n",
    "print( \"Mean absolute error:\",mean_absolute_error(y_test,pred_GBR))\n",
    "print( \"mean_squared_error:\",mean_squared_error(y_test,pred_GBR))\n",
    "print(\"Root mean_squared_error\",np.sqrt(mean_squared_error(y_test,pred_GBR)))"
   ]
  },
  {
   "cell_type": "code",
   "execution_count": 67,
   "id": "9a827c35",
   "metadata": {},
   "outputs": [
    {
     "name": "stdout",
     "output_type": "stream",
     "text": [
      "R2_Score: 0.9186536864710093\n",
      "MAE: 0.3489010989010989\n",
      "MSE: 0.42884615384615393\n",
      "RMSE: 0.6548634619874237\n"
     ]
    }
   ],
   "source": [
    "# Checking R2 score for BaggingRegressor\n",
    "from sklearn.ensemble import BaggingRegressor\n",
    "BR=BaggingRegressor()\n",
    "BR.fit(x_train,y_train)\n",
    "\n",
    "# prediction\n",
    "predBR=BR.predict(x_test)\n",
    "print('R2_Score:',r2_score(y_test,predBR))\n",
    "print('MAE:',mean_absolute_error(y_test, predBR))\n",
    "print('MSE:',mean_squared_error(y_test, predBR))\n",
    "print(\"RMSE:\",np.sqrt(mean_squared_error(y_test, predBR)))"
   ]
  },
  {
   "cell_type": "code",
   "execution_count": 68,
   "id": "8451c0e0",
   "metadata": {},
   "outputs": [
    {
     "name": "stdout",
     "output_type": "stream",
     "text": [
      "r2_score: 0.26501253873227104\n",
      "r2_score on training data: 26.501253873227103\n",
      "Mean absolute error: 1.6254379657100257\n",
      "mean_squared_error: 3.8747489863505966\n",
      "Root mean_squared_error 1.9684382099396964\n"
     ]
    }
   ],
   "source": [
    "lasso=Lasso()\n",
    "lasso.fit(x_train,y_train)\n",
    "pred_lasso=lasso.predict(x_test)\n",
    "pred_train=lasso.predict(x_train)\n",
    "print(\"r2_score:\",r2_score(y_test,pred_lasso))\n",
    "print(\"r2_score on training data:\",r2_score(y_test,pred_lasso)*100)\n",
    "print( \"Mean absolute error:\",mean_absolute_error(y_test,pred_lasso))\n",
    "print( \"mean_squared_error:\",mean_squared_error(y_test,pred_lasso))\n",
    "print(\"Root mean_squared_error\",np.sqrt(mean_squared_error(y_test,pred_lasso)))"
   ]
  },
  {
   "cell_type": "code",
   "execution_count": 69,
   "id": "586ce409",
   "metadata": {},
   "outputs": [
    {
     "name": "stdout",
     "output_type": "stream",
     "text": [
      "r2_score: 0.5559413069046895\n",
      "r2_score on training data: 55.594130690468944\n",
      "Mean absolute error: 1.1992429507476345\n",
      "mean_squared_error: 2.3410140466661216\n",
      "Root mean_squared_error 1.5300372696983957\n"
     ]
    }
   ],
   "source": [
    "rd=Ridge()\n",
    "rd.fit(x_train,y_train)\n",
    "pred_rd=rd.predict(x_test)\n",
    "pred_train=rd.predict(x_train)\n",
    "print(\"r2_score:\",r2_score(y_test,pred_rd))\n",
    "print(\"r2_score on training data:\",r2_score(y_test,pred_rd)*100)\n",
    "print( \"Mean absolute error:\",mean_absolute_error(y_test,pred_rd))\n",
    "print( \"mean_squared_error:\",mean_squared_error(y_test,pred_rd))\n",
    "print(\"Root mean_squared_error\",np.sqrt(mean_squared_error(y_test,pred_rd)))"
   ]
  },
  {
   "cell_type": "code",
   "execution_count": 70,
   "id": "233c0a73",
   "metadata": {},
   "outputs": [
    {
     "name": "stdout",
     "output_type": "stream",
     "text": [
      "r2_score: 0.9337774304939155\n",
      "r2_score on training data: 93.37774304939155\n",
      "Mean absolute error: 0.32873626373626375\n",
      "mean_squared_error: 0.34911593406593405\n",
      "Root mean_squared_error 0.5908603338065046\n"
     ]
    }
   ],
   "source": [
    "from sklearn.ensemble import ExtraTreesRegressor\n",
    "etr=ExtraTreesRegressor()\n",
    "etr.fit(x_train,y_train)\n",
    "pred_etr=etr.predict(x_test)\n",
    "pred_train=etr.predict(x_train)\n",
    "print(\"r2_score:\",r2_score(y_test,pred_etr))\n",
    "print(\"r2_score on training data:\",r2_score(y_test,pred_etr)*100)\n",
    "print( \"Mean absolute error:\",mean_absolute_error(y_test,pred_etr))\n",
    "print( \"mean_squared_error:\",mean_squared_error(y_test,pred_etr))\n",
    "print(\"Root mean_squared_error\",np.sqrt(mean_squared_error(y_test,pred_etr)))"
   ]
  },
  {
   "cell_type": "code",
   "execution_count": 71,
   "id": "b0cf7f0e",
   "metadata": {},
   "outputs": [],
   "source": [
    "from sklearn.model_selection import cross_val_score"
   ]
  },
  {
   "cell_type": "code",
   "execution_count": 72,
   "id": "db6d8e73",
   "metadata": {},
   "outputs": [
    {
     "name": "stdout",
     "output_type": "stream",
     "text": [
      "[0.42736329 0.43953547 0.4124995  0.50969526 0.40152955]\n",
      "0.4381246116889444\n",
      "Difference between R2 score and cross_val_score: 11.826825938281132\n"
     ]
    }
   ],
   "source": [
    "score=cross_val_score(LR,x,y)\n",
    "print(score)\n",
    "print(score.mean())\n",
    "print(\"Difference between R2 score and cross_val_score:\",(r2_score(y_test,pred_LR)-score.mean())*100)"
   ]
  },
  {
   "cell_type": "code",
   "execution_count": 73,
   "id": "d6e765a2",
   "metadata": {},
   "outputs": [
    {
     "name": "stdout",
     "output_type": "stream",
     "text": [
      "[0.88838882 0.91106086 0.87629222 0.93150908 0.92276643]\n",
      "0.9060034799589717\n",
      "Difference between R2 score and cross_val_score: 1.778132977617508\n"
     ]
    }
   ],
   "source": [
    "score1=cross_val_score(RFR,x,y)\n",
    "print(score1)\n",
    "print(score1.mean())\n",
    "print(\"Difference between R2 score and cross_val_score:\",(r2_score(y_test,pred_RFR)-score1.mean())*100)"
   ]
  },
  {
   "cell_type": "code",
   "execution_count": 74,
   "id": "de81afdf",
   "metadata": {},
   "outputs": [
    {
     "name": "stdout",
     "output_type": "stream",
     "text": [
      "[0.21807424 0.36603    0.3510844  0.59998984 0.51855094]\n",
      "0.4107458851562894\n",
      "Difference between R2 score and cross_val_score: -1.369872696015484\n"
     ]
    }
   ],
   "source": [
    "score2=cross_val_score(knn,x,y)\n",
    "print(score2)\n",
    "print(score2.mean())\n",
    "print(\"Difference between R2 score and cross_val_score:\",(r2_score(y_test,pred_knn)-score2.mean())*100)"
   ]
  },
  {
   "cell_type": "code",
   "execution_count": 75,
   "id": "541a9257",
   "metadata": {},
   "outputs": [
    {
     "name": "stdout",
     "output_type": "stream",
     "text": [
      "[0.88558252 0.9250214  0.84293763 0.91925309 0.92311677]\n",
      "0.8991822826784333\n",
      "Difference between R2 score and cross_val_score: 2.9433768301648566\n"
     ]
    }
   ],
   "source": [
    "score3=cross_val_score(GBR,x,y)\n",
    "print(score3)\n",
    "print(score3.mean())\n",
    "print(\"Difference between R2 score and cross_val_score:\",(r2_score(y_test,pred_GBR)-score3.mean())*100)"
   ]
  },
  {
   "cell_type": "code",
   "execution_count": 76,
   "id": "2890c91e",
   "metadata": {},
   "outputs": [
    {
     "name": "stdout",
     "output_type": "stream",
     "text": [
      "[0.20123761 0.22041674 0.19951575 0.26984457 0.26141337]\n",
      "0.23048560868114673\n",
      "Difference between R2 score and cross_val_score: 3.452693005112431\n"
     ]
    }
   ],
   "source": [
    "score4=cross_val_score(lasso,x,y)\n",
    "print(score4)\n",
    "print(score4.mean())\n",
    "print(\"Difference between R2 score and cross_val_score:\",(r2_score(y_test,pred_lasso)-score4.mean())*100)"
   ]
  },
  {
   "cell_type": "code",
   "execution_count": 77,
   "id": "ffbaa12d",
   "metadata": {},
   "outputs": [
    {
     "name": "stdout",
     "output_type": "stream",
     "text": [
      "[0.42756697 0.43925263 0.41263644 0.50937103 0.4017549 ]\n",
      "0.4381163948160813\n",
      "Difference between R2 score and cross_val_score: 11.782491208860819\n"
     ]
    }
   ],
   "source": [
    "score5=cross_val_score(rd,x,y)\n",
    "print(score5)\n",
    "print(score5.mean())\n",
    "print(\"Difference between R2 score and cross_val_score:\",(r2_score(y_test,pred_rd)-score5.mean())*100)"
   ]
  },
  {
   "cell_type": "code",
   "execution_count": 78,
   "id": "80f872f3",
   "metadata": {},
   "outputs": [
    {
     "name": "stdout",
     "output_type": "stream",
     "text": [
      "[0.85110652 0.91261561 0.88436632 0.93997056 0.93404181]\n",
      "0.9044201640159549\n",
      "Difference between R2 score and cross_val_score: 2.9357266477960553\n"
     ]
    }
   ],
   "source": [
    "score6=cross_val_score(etr,x,y)\n",
    "print(score6)\n",
    "print(score6.mean())\n",
    "print(\"Difference between R2 score and cross_val_score:\",(r2_score(y_test,pred_etr)-score6.mean())*100)"
   ]
  },
  {
   "cell_type": "code",
   "execution_count": 79,
   "id": "a10d5801",
   "metadata": {},
   "outputs": [
    {
     "name": "stdout",
     "output_type": "stream",
     "text": [
      "[0.88020462 0.89018318 0.85673452 0.9300397  0.92506444]\n",
      "0.8964452903204965\n",
      "Difference between R2 score and cross_val_score: 2.2208396150512844\n"
     ]
    }
   ],
   "source": [
    "score8=cross_val_score(BR,x,y)\n",
    "print(score8)\n",
    "print(score8.mean())\n",
    "print(\"Difference between R2 score and cross_val_score:\",(r2_score(y_test,predBR)-score8.mean())*100)"
   ]
  },
  {
   "cell_type": "markdown",
   "id": "8851fe74",
   "metadata": {},
   "source": [
    "GradientBoosting Regressor as our best fitting model"
   ]
  },
  {
   "cell_type": "code",
   "execution_count": 80,
   "id": "e6de7179",
   "metadata": {},
   "outputs": [],
   "source": [
    "from sklearn.model_selection import GridSearchCV"
   ]
  },
  {
   "cell_type": "code",
   "execution_count": 81,
   "id": "57fb42b8",
   "metadata": {},
   "outputs": [],
   "source": [
    "parameters={'loss' : ['squared_error', 'absolute_error', 'huber', 'quantile'],\n",
    "           'max_features' : ['auto', 'sqrt', 'log2'],\n",
    "           'learning_rate':[0.1,.2,.4,.5],\n",
    "           'criterion' : ['friedman_mse', 'squared_error', 'mse'], \n",
    "          \n",
    "          }\n"
   ]
  },
  {
   "cell_type": "code",
   "execution_count": 82,
   "id": "ade3360d",
   "metadata": {},
   "outputs": [
    {
     "data": {
      "text/plain": [
       "GridSearchCV(cv=5, estimator=GradientBoostingRegressor(),\n",
       "             param_grid={'criterion': ['friedman_mse', 'squared_error', 'mse'],\n",
       "                         'learning_rate': [0.1, 0.2, 0.4, 0.5],\n",
       "                         'loss': ['squared_error', 'absolute_error', 'huber',\n",
       "                                  'quantile'],\n",
       "                         'max_features': ['auto', 'sqrt', 'log2']})"
      ]
     },
     "execution_count": 82,
     "metadata": {},
     "output_type": "execute_result"
    }
   ],
   "source": [
    "GCV=GridSearchCV(GradientBoostingRegressor(),parameters,cv=5)\n",
    "GCV.fit(x_train,y_train)"
   ]
  },
  {
   "cell_type": "code",
   "execution_count": 83,
   "id": "a17671e9",
   "metadata": {},
   "outputs": [
    {
     "data": {
      "text/plain": [
       "{'criterion': 'mse',\n",
       " 'learning_rate': 0.2,\n",
       " 'loss': 'squared_error',\n",
       " 'max_features': 'auto'}"
      ]
     },
     "execution_count": 83,
     "metadata": {},
     "output_type": "execute_result"
    }
   ],
   "source": [
    "GCV.best_params_\n"
   ]
  },
  {
   "cell_type": "code",
   "execution_count": 86,
   "id": "82886990",
   "metadata": {},
   "outputs": [
    {
     "name": "stdout",
     "output_type": "stream",
     "text": [
      "RMSE value: 0.6338734924222691\n",
      "R2_Score: 92.13979684011451\n"
     ]
    }
   ],
   "source": [
    "capacity_model = GradientBoostingRegressor(criterion='mse', learning_rate= 0.2, loss= 'squared_error',max_features= 'auto')\n",
    "capacity_model.fit(x_train, y_train)\n",
    "pred = capacity_model.predict(x_test)\n",
    "print(\"RMSE value:\",np.sqrt(mean_squared_error(y_test, pred_RFR)))\n",
    "print('R2_Score:',r2_score(y_test,pred)*100)"
   ]
  },
  {
   "cell_type": "code",
   "execution_count": 87,
   "id": "53e90a08",
   "metadata": {},
   "outputs": [
    {
     "data": {
      "text/plain": [
       "['Global_Power_Plant_capacity_mw.pkl']"
      ]
     },
     "execution_count": 87,
     "metadata": {},
     "output_type": "execute_result"
    }
   ],
   "source": [
    "# Saving the model using .pkl\n",
    "import joblib\n",
    "joblib.dump(capacity_model,\"Global_Power_Plant_capacity_mw.pkl\")"
   ]
  },
  {
   "cell_type": "code",
   "execution_count": 88,
   "id": "915e4718",
   "metadata": {},
   "outputs": [
    {
     "data": {
      "text/html": [
       "<div>\n",
       "<style scoped>\n",
       "    .dataframe tbody tr th:only-of-type {\n",
       "        vertical-align: middle;\n",
       "    }\n",
       "\n",
       "    .dataframe tbody tr th {\n",
       "        vertical-align: top;\n",
       "    }\n",
       "\n",
       "    .dataframe thead th {\n",
       "        text-align: right;\n",
       "    }\n",
       "</style>\n",
       "<table border=\"1\" class=\"dataframe\">\n",
       "  <thead>\n",
       "    <tr style=\"text-align: right;\">\n",
       "      <th></th>\n",
       "      <th>Original</th>\n",
       "      <th>Predicted</th>\n",
       "    </tr>\n",
       "  </thead>\n",
       "  <tbody>\n",
       "    <tr>\n",
       "      <th>0</th>\n",
       "      <td>2</td>\n",
       "      <td>3.931896</td>\n",
       "    </tr>\n",
       "    <tr>\n",
       "      <th>1</th>\n",
       "      <td>1</td>\n",
       "      <td>1.212250</td>\n",
       "    </tr>\n",
       "    <tr>\n",
       "      <th>2</th>\n",
       "      <td>0</td>\n",
       "      <td>0.241670</td>\n",
       "    </tr>\n",
       "    <tr>\n",
       "      <th>3</th>\n",
       "      <td>6</td>\n",
       "      <td>5.642758</td>\n",
       "    </tr>\n",
       "    <tr>\n",
       "      <th>4</th>\n",
       "      <td>3</td>\n",
       "      <td>2.818039</td>\n",
       "    </tr>\n",
       "    <tr>\n",
       "      <th>...</th>\n",
       "      <td>...</td>\n",
       "      <td>...</td>\n",
       "    </tr>\n",
       "    <tr>\n",
       "      <th>177</th>\n",
       "      <td>6</td>\n",
       "      <td>5.904672</td>\n",
       "    </tr>\n",
       "    <tr>\n",
       "      <th>178</th>\n",
       "      <td>3</td>\n",
       "      <td>3.534540</td>\n",
       "    </tr>\n",
       "    <tr>\n",
       "      <th>179</th>\n",
       "      <td>1</td>\n",
       "      <td>2.801813</td>\n",
       "    </tr>\n",
       "    <tr>\n",
       "      <th>180</th>\n",
       "      <td>7</td>\n",
       "      <td>6.877886</td>\n",
       "    </tr>\n",
       "    <tr>\n",
       "      <th>181</th>\n",
       "      <td>1</td>\n",
       "      <td>2.711425</td>\n",
       "    </tr>\n",
       "  </tbody>\n",
       "</table>\n",
       "<p>182 rows × 2 columns</p>\n",
       "</div>"
      ],
      "text/plain": [
       "     Original  Predicted\n",
       "0           2   3.931896\n",
       "1           1   1.212250\n",
       "2           0   0.241670\n",
       "3           6   5.642758\n",
       "4           3   2.818039\n",
       "..        ...        ...\n",
       "177         6   5.904672\n",
       "178         3   3.534540\n",
       "179         1   2.801813\n",
       "180         7   6.877886\n",
       "181         1   2.711425\n",
       "\n",
       "[182 rows x 2 columns]"
      ]
     },
     "execution_count": 88,
     "metadata": {},
     "output_type": "execute_result"
    }
   ],
   "source": [
    "# Loading the saved model\n",
    "model=joblib.load(\"Global_Power_Plant_capacity_mw.pkl\")\n",
    "\n",
    "#Prediction\n",
    "prediction = model.predict(x_test)\n",
    "a = np.array(y_test)\n",
    "df_final = pd.DataFrame({\"Original\":a,\"Predicted\":prediction},index=range(len(a)))\n",
    "df_final"
   ]
  },
  {
   "cell_type": "code",
   "execution_count": 89,
   "id": "9b6fdc8e",
   "metadata": {},
   "outputs": [
    {
     "data": {
      "image/png": "[encoded data removed]",
      "text/plain": [
       "<Figure size 576x576 with 1 Axes>"
      ]
     },
     "metadata": {
      "needs_background": "light"
     },
     "output_type": "display_data"
    }
   ],
   "source": [
    "plt.figure(figsize=(8,8))\n",
    "sns.regplot(y_test,prediction,color='r')\n",
    "plt.xlabel('Actual ',fontsize=15)\n",
    "plt.ylabel('Predicted',fontsize=15)\n",
    "plt.title(\"Gradient Boost Regressor\")\n",
    "plt.show()"
   ]
  },
  {
   "cell_type": "markdown",
   "id": "3212f257",
   "metadata": {},
   "source": [
    "MODEL 2 capacity_mw is target variable . Let us Do the Classification"
   ]
  },
  {
   "cell_type": "code",
   "execution_count": 90,
   "id": "62f3ec23",
   "metadata": {},
   "outputs": [
    {
     "data": {
      "text/html": [
       "<div>\n",
       "<style scoped>\n",
       "    .dataframe tbody tr th:only-of-type {\n",
       "        vertical-align: middle;\n",
       "    }\n",
       "\n",
       "    .dataframe tbody tr th {\n",
       "        vertical-align: top;\n",
       "    }\n",
       "\n",
       "    .dataframe thead th {\n",
       "        text-align: right;\n",
       "    }\n",
       "</style>\n",
       "<table border=\"1\" class=\"dataframe\">\n",
       "  <thead>\n",
       "    <tr style=\"text-align: right;\">\n",
       "      <th></th>\n",
       "      <th>capacity_mw</th>\n",
       "      <th>latitude</th>\n",
       "      <th>longitude</th>\n",
       "      <th>primary_fuel</th>\n",
       "      <th>commissioning_year</th>\n",
       "      <th>source</th>\n",
       "      <th>geolocation_source</th>\n",
       "      <th>generation_gwh_2014</th>\n",
       "      <th>generation_gwh_2015</th>\n",
       "      <th>generation_gwh_2016</th>\n",
       "      <th>generation_gwh_2017</th>\n",
       "      <th>generation_gwh_2018</th>\n",
       "    </tr>\n",
       "  </thead>\n",
       "  <tbody>\n",
       "    <tr>\n",
       "      <th>0</th>\n",
       "      <td>2.5</td>\n",
       "      <td>28.1839</td>\n",
       "      <td>73.2407</td>\n",
       "      <td>6</td>\n",
       "      <td>2011.0</td>\n",
       "      <td>109.0</td>\n",
       "      <td>1.0</td>\n",
       "      <td>16.779017</td>\n",
       "      <td>13.293200</td>\n",
       "      <td>8.974900</td>\n",
       "      <td>22.244883</td>\n",
       "      <td>47.968950</td>\n",
       "    </tr>\n",
       "    <tr>\n",
       "      <th>1</th>\n",
       "      <td>98.0</td>\n",
       "      <td>24.7663</td>\n",
       "      <td>74.6090</td>\n",
       "      <td>1</td>\n",
       "      <td>2015.0</td>\n",
       "      <td>174.0</td>\n",
       "      <td>2.0</td>\n",
       "      <td>324.532517</td>\n",
       "      <td>168.964267</td>\n",
       "      <td>253.214233</td>\n",
       "      <td>210.319783</td>\n",
       "      <td>299.083733</td>\n",
       "    </tr>\n",
       "    <tr>\n",
       "      <th>2</th>\n",
       "      <td>39.2</td>\n",
       "      <td>21.9038</td>\n",
       "      <td>69.3732</td>\n",
       "      <td>7</td>\n",
       "      <td>2015.0</td>\n",
       "      <td>21.0</td>\n",
       "      <td>2.0</td>\n",
       "      <td>85.185267</td>\n",
       "      <td>112.481433</td>\n",
       "      <td>114.819683</td>\n",
       "      <td>185.902483</td>\n",
       "      <td>198.180783</td>\n",
       "    </tr>\n",
       "    <tr>\n",
       "      <th>3</th>\n",
       "      <td>135.0</td>\n",
       "      <td>23.8712</td>\n",
       "      <td>91.3602</td>\n",
       "      <td>2</td>\n",
       "      <td>2004.0</td>\n",
       "      <td>22.0</td>\n",
       "      <td>2.0</td>\n",
       "      <td>617.789264</td>\n",
       "      <td>843.747000</td>\n",
       "      <td>886.004428</td>\n",
       "      <td>663.774500</td>\n",
       "      <td>626.239128</td>\n",
       "    </tr>\n",
       "    <tr>\n",
       "      <th>4</th>\n",
       "      <td>1800.0</td>\n",
       "      <td>21.9603</td>\n",
       "      <td>82.4091</td>\n",
       "      <td>1</td>\n",
       "      <td>2015.0</td>\n",
       "      <td>22.0</td>\n",
       "      <td>2.0</td>\n",
       "      <td>3035.550000</td>\n",
       "      <td>5916.370000</td>\n",
       "      <td>6243.000000</td>\n",
       "      <td>5385.579736</td>\n",
       "      <td>7279.000000</td>\n",
       "    </tr>\n",
       "  </tbody>\n",
       "</table>\n",
       "</div>"
      ],
      "text/plain": [
       "   capacity_mw  latitude  longitude  primary_fuel  commissioning_year  source  \\\n",
       "0          2.5   28.1839    73.2407             6              2011.0   109.0   \n",
       "1         98.0   24.7663    74.6090             1              2015.0   174.0   \n",
       "2         39.2   21.9038    69.3732             7              2015.0    21.0   \n",
       "3        135.0   23.8712    91.3602             2              2004.0    22.0   \n",
       "4       1800.0   21.9603    82.4091             1              2015.0    22.0   \n",
       "\n",
       "   geolocation_source  generation_gwh_2014  generation_gwh_2015  \\\n",
       "0                 1.0            16.779017            13.293200   \n",
       "1                 2.0           324.532517           168.964267   \n",
       "2                 2.0            85.185267           112.481433   \n",
       "3                 2.0           617.789264           843.747000   \n",
       "4                 2.0          3035.550000          5916.370000   \n",
       "\n",
       "   generation_gwh_2016  generation_gwh_2017  generation_gwh_2018  \n",
       "0             8.974900            22.244883            47.968950  \n",
       "1           253.214233           210.319783           299.083733  \n",
       "2           114.819683           185.902483           198.180783  \n",
       "3           886.004428           663.774500           626.239128  \n",
       "4          6243.000000          5385.579736          7279.000000  "
      ]
     },
     "execution_count": 90,
     "metadata": {},
     "output_type": "execute_result"
    }
   ],
   "source": [
    "df.head()\n"
   ]
  },
  {
   "cell_type": "code",
   "execution_count": 91,
   "id": "8e8f8147",
   "metadata": {},
   "outputs": [],
   "source": [
    "#let us rename 'primary_fuel' to Fuel_Type\n",
    "df.rename(columns={'primary_fuel':'Fuel_Type'},inplace=True)"
   ]
  },
  {
   "cell_type": "code",
   "execution_count": 92,
   "id": "3e1392fe",
   "metadata": {},
   "outputs": [
    {
     "data": {
      "text/html": [
       "<div>\n",
       "<style scoped>\n",
       "    .dataframe tbody tr th:only-of-type {\n",
       "        vertical-align: middle;\n",
       "    }\n",
       "\n",
       "    .dataframe tbody tr th {\n",
       "        vertical-align: top;\n",
       "    }\n",
       "\n",
       "    .dataframe thead th {\n",
       "        text-align: right;\n",
       "    }\n",
       "</style>\n",
       "<table border=\"1\" class=\"dataframe\">\n",
       "  <thead>\n",
       "    <tr style=\"text-align: right;\">\n",
       "      <th></th>\n",
       "      <th>capacity_mw</th>\n",
       "      <th>latitude</th>\n",
       "      <th>longitude</th>\n",
       "      <th>Fuel_Type</th>\n",
       "      <th>commissioning_year</th>\n",
       "      <th>source</th>\n",
       "      <th>geolocation_source</th>\n",
       "      <th>generation_gwh_2014</th>\n",
       "      <th>generation_gwh_2015</th>\n",
       "      <th>generation_gwh_2016</th>\n",
       "      <th>generation_gwh_2017</th>\n",
       "      <th>generation_gwh_2018</th>\n",
       "    </tr>\n",
       "  </thead>\n",
       "  <tbody>\n",
       "    <tr>\n",
       "      <th>capacity_mw</th>\n",
       "      <td>1.000000</td>\n",
       "      <td>0.050984</td>\n",
       "      <td>0.195882</td>\n",
       "      <td>-0.380395</td>\n",
       "      <td>-0.004072</td>\n",
       "      <td>-0.242122</td>\n",
       "      <td>0.204865</td>\n",
       "      <td>0.856402</td>\n",
       "      <td>0.865546</td>\n",
       "      <td>0.887566</td>\n",
       "      <td>0.900910</td>\n",
       "      <td>0.912287</td>\n",
       "    </tr>\n",
       "    <tr>\n",
       "      <th>latitude</th>\n",
       "      <td>0.050984</td>\n",
       "      <td>1.000000</td>\n",
       "      <td>0.036362</td>\n",
       "      <td>-0.010204</td>\n",
       "      <td>0.034519</td>\n",
       "      <td>0.055927</td>\n",
       "      <td>-0.184275</td>\n",
       "      <td>0.056823</td>\n",
       "      <td>0.053340</td>\n",
       "      <td>0.049539</td>\n",
       "      <td>0.057951</td>\n",
       "      <td>0.054626</td>\n",
       "    </tr>\n",
       "    <tr>\n",
       "      <th>longitude</th>\n",
       "      <td>0.195882</td>\n",
       "      <td>0.036362</td>\n",
       "      <td>1.000000</td>\n",
       "      <td>-0.347948</td>\n",
       "      <td>-0.159025</td>\n",
       "      <td>-0.239333</td>\n",
       "      <td>0.252343</td>\n",
       "      <td>0.159262</td>\n",
       "      <td>0.160773</td>\n",
       "      <td>0.180694</td>\n",
       "      <td>0.192787</td>\n",
       "      <td>0.189782</td>\n",
       "    </tr>\n",
       "    <tr>\n",
       "      <th>Fuel_Type</th>\n",
       "      <td>-0.380395</td>\n",
       "      <td>-0.010204</td>\n",
       "      <td>-0.347948</td>\n",
       "      <td>1.000000</td>\n",
       "      <td>0.164947</td>\n",
       "      <td>0.053613</td>\n",
       "      <td>-0.483217</td>\n",
       "      <td>-0.305067</td>\n",
       "      <td>-0.296747</td>\n",
       "      <td>-0.304207</td>\n",
       "      <td>-0.308670</td>\n",
       "      <td>-0.309320</td>\n",
       "    </tr>\n",
       "    <tr>\n",
       "      <th>commissioning_year</th>\n",
       "      <td>-0.004072</td>\n",
       "      <td>0.034519</td>\n",
       "      <td>-0.159025</td>\n",
       "      <td>0.164947</td>\n",
       "      <td>1.000000</td>\n",
       "      <td>0.322222</td>\n",
       "      <td>-0.259929</td>\n",
       "      <td>-0.058544</td>\n",
       "      <td>-0.036973</td>\n",
       "      <td>-0.019931</td>\n",
       "      <td>-0.014944</td>\n",
       "      <td>-0.011198</td>\n",
       "    </tr>\n",
       "    <tr>\n",
       "      <th>source</th>\n",
       "      <td>-0.242122</td>\n",
       "      <td>0.055927</td>\n",
       "      <td>-0.239333</td>\n",
       "      <td>0.053613</td>\n",
       "      <td>0.322222</td>\n",
       "      <td>1.000000</td>\n",
       "      <td>-0.505720</td>\n",
       "      <td>-0.185043</td>\n",
       "      <td>-0.177553</td>\n",
       "      <td>-0.180559</td>\n",
       "      <td>-0.183586</td>\n",
       "      <td>-0.182214</td>\n",
       "    </tr>\n",
       "    <tr>\n",
       "      <th>geolocation_source</th>\n",
       "      <td>0.204865</td>\n",
       "      <td>-0.184275</td>\n",
       "      <td>0.252343</td>\n",
       "      <td>-0.483217</td>\n",
       "      <td>-0.259929</td>\n",
       "      <td>-0.505720</td>\n",
       "      <td>1.000000</td>\n",
       "      <td>0.155821</td>\n",
       "      <td>0.149314</td>\n",
       "      <td>0.151722</td>\n",
       "      <td>0.153137</td>\n",
       "      <td>0.152339</td>\n",
       "    </tr>\n",
       "    <tr>\n",
       "      <th>generation_gwh_2014</th>\n",
       "      <td>0.856402</td>\n",
       "      <td>0.056823</td>\n",
       "      <td>0.159262</td>\n",
       "      <td>-0.305067</td>\n",
       "      <td>-0.058544</td>\n",
       "      <td>-0.185043</td>\n",
       "      <td>0.155821</td>\n",
       "      <td>1.000000</td>\n",
       "      <td>0.959103</td>\n",
       "      <td>0.937960</td>\n",
       "      <td>0.916587</td>\n",
       "      <td>0.909878</td>\n",
       "    </tr>\n",
       "    <tr>\n",
       "      <th>generation_gwh_2015</th>\n",
       "      <td>0.865546</td>\n",
       "      <td>0.053340</td>\n",
       "      <td>0.160773</td>\n",
       "      <td>-0.296747</td>\n",
       "      <td>-0.036973</td>\n",
       "      <td>-0.177553</td>\n",
       "      <td>0.149314</td>\n",
       "      <td>0.959103</td>\n",
       "      <td>1.000000</td>\n",
       "      <td>0.974132</td>\n",
       "      <td>0.946379</td>\n",
       "      <td>0.942575</td>\n",
       "    </tr>\n",
       "    <tr>\n",
       "      <th>generation_gwh_2016</th>\n",
       "      <td>0.887566</td>\n",
       "      <td>0.049539</td>\n",
       "      <td>0.180694</td>\n",
       "      <td>-0.304207</td>\n",
       "      <td>-0.019931</td>\n",
       "      <td>-0.180559</td>\n",
       "      <td>0.151722</td>\n",
       "      <td>0.937960</td>\n",
       "      <td>0.974132</td>\n",
       "      <td>1.000000</td>\n",
       "      <td>0.974370</td>\n",
       "      <td>0.966330</td>\n",
       "    </tr>\n",
       "    <tr>\n",
       "      <th>generation_gwh_2017</th>\n",
       "      <td>0.900910</td>\n",
       "      <td>0.057951</td>\n",
       "      <td>0.192787</td>\n",
       "      <td>-0.308670</td>\n",
       "      <td>-0.014944</td>\n",
       "      <td>-0.183586</td>\n",
       "      <td>0.153137</td>\n",
       "      <td>0.916587</td>\n",
       "      <td>0.946379</td>\n",
       "      <td>0.974370</td>\n",
       "      <td>1.000000</td>\n",
       "      <td>0.987739</td>\n",
       "    </tr>\n",
       "    <tr>\n",
       "      <th>generation_gwh_2018</th>\n",
       "      <td>0.912287</td>\n",
       "      <td>0.054626</td>\n",
       "      <td>0.189782</td>\n",
       "      <td>-0.309320</td>\n",
       "      <td>-0.011198</td>\n",
       "      <td>-0.182214</td>\n",
       "      <td>0.152339</td>\n",
       "      <td>0.909878</td>\n",
       "      <td>0.942575</td>\n",
       "      <td>0.966330</td>\n",
       "      <td>0.987739</td>\n",
       "      <td>1.000000</td>\n",
       "    </tr>\n",
       "  </tbody>\n",
       "</table>\n",
       "</div>"
      ],
      "text/plain": [
       "                     capacity_mw  latitude  longitude  Fuel_Type  \\\n",
       "capacity_mw             1.000000  0.050984   0.195882  -0.380395   \n",
       "latitude                0.050984  1.000000   0.036362  -0.010204   \n",
       "longitude               0.195882  0.036362   1.000000  -0.347948   \n",
       "Fuel_Type              -0.380395 -0.010204  -0.347948   1.000000   \n",
       "commissioning_year     -0.004072  0.034519  -0.159025   0.164947   \n",
       "source                 -0.242122  0.055927  -0.239333   0.053613   \n",
       "geolocation_source      0.204865 -0.184275   0.252343  -0.483217   \n",
       "generation_gwh_2014     0.856402  0.056823   0.159262  -0.305067   \n",
       "generation_gwh_2015     0.865546  0.053340   0.160773  -0.296747   \n",
       "generation_gwh_2016     0.887566  0.049539   0.180694  -0.304207   \n",
       "generation_gwh_2017     0.900910  0.057951   0.192787  -0.308670   \n",
       "generation_gwh_2018     0.912287  0.054626   0.189782  -0.309320   \n",
       "\n",
       "                     commissioning_year    source  geolocation_source  \\\n",
       "capacity_mw                   -0.004072 -0.242122            0.204865   \n",
       "latitude                       0.034519  0.055927           -0.184275   \n",
       "longitude                     -0.159025 -0.239333            0.252343   \n",
       "Fuel_Type                      0.164947  0.053613           -0.483217   \n",
       "commissioning_year             1.000000  0.322222           -0.259929   \n",
       "source                         0.322222  1.000000           -0.505720   \n",
       "geolocation_source            -0.259929 -0.505720            1.000000   \n",
       "generation_gwh_2014           -0.058544 -0.185043            0.155821   \n",
       "generation_gwh_2015           -0.036973 -0.177553            0.149314   \n",
       "generation_gwh_2016           -0.019931 -0.180559            0.151722   \n",
       "generation_gwh_2017           -0.014944 -0.183586            0.153137   \n",
       "generation_gwh_2018           -0.011198 -0.182214            0.152339   \n",
       "\n",
       "                     generation_gwh_2014  generation_gwh_2015  \\\n",
       "capacity_mw                     0.856402             0.865546   \n",
       "latitude                        0.056823             0.053340   \n",
       "longitude                       0.159262             0.160773   \n",
       "Fuel_Type                      -0.305067            -0.296747   \n",
       "commissioning_year             -0.058544            -0.036973   \n",
       "source                         -0.185043            -0.177553   \n",
       "geolocation_source              0.155821             0.149314   \n",
       "generation_gwh_2014             1.000000             0.959103   \n",
       "generation_gwh_2015             0.959103             1.000000   \n",
       "generation_gwh_2016             0.937960             0.974132   \n",
       "generation_gwh_2017             0.916587             0.946379   \n",
       "generation_gwh_2018             0.909878             0.942575   \n",
       "\n",
       "                     generation_gwh_2016  generation_gwh_2017  \\\n",
       "capacity_mw                     0.887566             0.900910   \n",
       "latitude                        0.049539             0.057951   \n",
       "longitude                       0.180694             0.192787   \n",
       "Fuel_Type                      -0.304207            -0.308670   \n",
       "commissioning_year             -0.019931            -0.014944   \n",
       "source                         -0.180559            -0.183586   \n",
       "geolocation_source              0.151722             0.153137   \n",
       "generation_gwh_2014             0.937960             0.916587   \n",
       "generation_gwh_2015             0.974132             0.946379   \n",
       "generation_gwh_2016             1.000000             0.974370   \n",
       "generation_gwh_2017             0.974370             1.000000   \n",
       "generation_gwh_2018             0.966330             0.987739   \n",
       "\n",
       "                     generation_gwh_2018  \n",
       "capacity_mw                     0.912287  \n",
       "latitude                        0.054626  \n",
       "longitude                       0.189782  \n",
       "Fuel_Type                      -0.309320  \n",
       "commissioning_year             -0.011198  \n",
       "source                         -0.182214  \n",
       "geolocation_source              0.152339  \n",
       "generation_gwh_2014             0.909878  \n",
       "generation_gwh_2015             0.942575  \n",
       "generation_gwh_2016             0.966330  \n",
       "generation_gwh_2017             0.987739  \n",
       "generation_gwh_2018             1.000000  "
      ]
     },
     "execution_count": 92,
     "metadata": {},
     "output_type": "execute_result"
    }
   ],
   "source": [
    "df.corr()"
   ]
  },
  {
   "cell_type": "code",
   "execution_count": 93,
   "id": "8a42d32c",
   "metadata": {},
   "outputs": [
    {
     "data": {
      "text/plain": [
       "<AxesSubplot:>"
      ]
     },
     "execution_count": 93,
     "metadata": {},
     "output_type": "execute_result"
    },
    {
     "data": {
      "image/png": "[encoded data removed]",
      "text/plain": [
       "<Figure size 720x720 with 2 Axes>"
      ]
     },
     "metadata": {
      "needs_background": "light"
     },
     "output_type": "display_data"
    }
   ],
   "source": [
    "plt.figure(figsize=(10,10))\n",
    "sns.heatmap(df.corr(), annot = True)"
   ]
  },
  {
   "cell_type": "code",
   "execution_count": 94,
   "id": "ce5a7343",
   "metadata": {},
   "outputs": [
    {
     "data": {
      "image/png": "[encoded data removed]",
      "text/plain": [
       "<Figure size 1584x504 with 1 Axes>"
      ]
     },
     "metadata": {
      "needs_background": "light"
     },
     "output_type": "display_data"
    }
   ],
   "source": [
    "plt.figure(figsize=(22,7))\n",
    "df.corr()['Fuel_Type'].sort_values(ascending=False).drop(['Fuel_Type']).plot(kind='bar',color='c')\n",
    "plt.xlabel('Feature',fontsize=10)\n",
    "plt.ylabel('Target',fontsize=10)\n",
    "plt.title('correlation between label and feature using bar plot',fontsize=20)\n",
    "plt.show()"
   ]
  },
  {
   "cell_type": "code",
   "execution_count": 95,
   "id": "ae0f79f6",
   "metadata": {},
   "outputs": [],
   "source": [
    "cl_x=df.drop(\"Fuel_Type\",axis=1)#features\n",
    "cl_y=df['Fuel_Type']#Label"
   ]
  },
  {
   "cell_type": "code",
   "execution_count": 96,
   "id": "0037622a",
   "metadata": {},
   "outputs": [
    {
     "data": {
      "text/plain": [
       "(907, 11)"
      ]
     },
     "execution_count": 96,
     "metadata": {},
     "output_type": "execute_result"
    }
   ],
   "source": [
    "cl_x.shape\n"
   ]
  },
  {
   "cell_type": "code",
   "execution_count": 97,
   "id": "85df728d",
   "metadata": {},
   "outputs": [
    {
     "data": {
      "text/plain": [
       "(907,)"
      ]
     },
     "execution_count": 97,
     "metadata": {},
     "output_type": "execute_result"
    }
   ],
   "source": [
    "cl_y.shape\n"
   ]
  },
  {
   "cell_type": "code",
   "execution_count": 98,
   "id": "c9162e2e",
   "metadata": {},
   "outputs": [
    {
     "data": {
      "text/html": [
       "<div>\n",
       "<style scoped>\n",
       "    .dataframe tbody tr th:only-of-type {\n",
       "        vertical-align: middle;\n",
       "    }\n",
       "\n",
       "    .dataframe tbody tr th {\n",
       "        vertical-align: top;\n",
       "    }\n",
       "\n",
       "    .dataframe thead th {\n",
       "        text-align: right;\n",
       "    }\n",
       "</style>\n",
       "<table border=\"1\" class=\"dataframe\">\n",
       "  <thead>\n",
       "    <tr style=\"text-align: right;\">\n",
       "      <th></th>\n",
       "      <th>capacity_mw</th>\n",
       "      <th>latitude</th>\n",
       "      <th>longitude</th>\n",
       "      <th>commissioning_year</th>\n",
       "      <th>source</th>\n",
       "      <th>geolocation_source</th>\n",
       "      <th>generation_gwh_2014</th>\n",
       "      <th>generation_gwh_2015</th>\n",
       "      <th>generation_gwh_2016</th>\n",
       "      <th>generation_gwh_2017</th>\n",
       "      <th>generation_gwh_2018</th>\n",
       "    </tr>\n",
       "  </thead>\n",
       "  <tbody>\n",
       "    <tr>\n",
       "      <th>0</th>\n",
       "      <td>-0.548908</td>\n",
       "      <td>1.149805</td>\n",
       "      <td>-0.878280</td>\n",
       "      <td>0.407327</td>\n",
       "      <td>1.460215</td>\n",
       "      <td>-1.083349</td>\n",
       "      <td>-0.407783</td>\n",
       "      <td>-0.388685</td>\n",
       "      <td>-0.394962</td>\n",
       "      <td>-0.399239</td>\n",
       "      <td>-0.395075</td>\n",
       "    </tr>\n",
       "    <tr>\n",
       "      <th>1</th>\n",
       "      <td>-0.386977</td>\n",
       "      <td>0.587311</td>\n",
       "      <td>-0.593788</td>\n",
       "      <td>0.661679</td>\n",
       "      <td>2.917019</td>\n",
       "      <td>0.394241</td>\n",
       "      <td>-0.303199</td>\n",
       "      <td>-0.338753</td>\n",
       "      <td>-0.317101</td>\n",
       "      <td>-0.340211</td>\n",
       "      <td>-0.318779</td>\n",
       "    </tr>\n",
       "    <tr>\n",
       "      <th>2</th>\n",
       "      <td>-0.486679</td>\n",
       "      <td>0.116179</td>\n",
       "      <td>-1.682394</td>\n",
       "      <td>0.661679</td>\n",
       "      <td>-0.512075</td>\n",
       "      <td>0.394241</td>\n",
       "      <td>-0.384536</td>\n",
       "      <td>-0.356870</td>\n",
       "      <td>-0.361220</td>\n",
       "      <td>-0.347875</td>\n",
       "      <td>-0.349436</td>\n",
       "    </tr>\n",
       "    <tr>\n",
       "      <th>3</th>\n",
       "      <td>-0.324240</td>\n",
       "      <td>0.439989</td>\n",
       "      <td>2.889052</td>\n",
       "      <td>-0.037788</td>\n",
       "      <td>-0.489662</td>\n",
       "      <td>0.394241</td>\n",
       "      <td>-0.203542</td>\n",
       "      <td>-0.122313</td>\n",
       "      <td>-0.115372</td>\n",
       "      <td>-0.197893</td>\n",
       "      <td>-0.219380</td>\n",
       "    </tr>\n",
       "    <tr>\n",
       "      <th>4</th>\n",
       "      <td>2.498942</td>\n",
       "      <td>0.125479</td>\n",
       "      <td>1.027976</td>\n",
       "      <td>0.661679</td>\n",
       "      <td>-0.489662</td>\n",
       "      <td>0.394241</td>\n",
       "      <td>0.618085</td>\n",
       "      <td>1.504758</td>\n",
       "      <td>1.592397</td>\n",
       "      <td>1.284064</td>\n",
       "      <td>1.801917</td>\n",
       "    </tr>\n",
       "    <tr>\n",
       "      <th>...</th>\n",
       "      <td>...</td>\n",
       "      <td>...</td>\n",
       "      <td>...</td>\n",
       "      <td>...</td>\n",
       "      <td>...</td>\n",
       "      <td>...</td>\n",
       "      <td>...</td>\n",
       "      <td>...</td>\n",
       "      <td>...</td>\n",
       "      <td>...</td>\n",
       "      <td>...</td>\n",
       "    </tr>\n",
       "    <tr>\n",
       "      <th>902</th>\n",
       "      <td>2.159821</td>\n",
       "      <td>-0.806975</td>\n",
       "      <td>-0.022477</td>\n",
       "      <td>0.725267</td>\n",
       "      <td>-0.489662</td>\n",
       "      <td>0.394241</td>\n",
       "      <td>0.841002</td>\n",
       "      <td>-0.392630</td>\n",
       "      <td>-0.323355</td>\n",
       "      <td>-0.134612</td>\n",
       "      <td>-0.201071</td>\n",
       "    </tr>\n",
       "    <tr>\n",
       "      <th>903</th>\n",
       "      <td>-0.548060</td>\n",
       "      <td>-1.366853</td>\n",
       "      <td>0.145644</td>\n",
       "      <td>0.661679</td>\n",
       "      <td>0.743019</td>\n",
       "      <td>-2.560940</td>\n",
       "      <td>-0.407783</td>\n",
       "      <td>-0.388685</td>\n",
       "      <td>-0.394962</td>\n",
       "      <td>-0.399239</td>\n",
       "      <td>-0.395075</td>\n",
       "    </tr>\n",
       "    <tr>\n",
       "      <th>904</th>\n",
       "      <td>-0.509909</td>\n",
       "      <td>-0.974707</td>\n",
       "      <td>-0.391673</td>\n",
       "      <td>0.661679</td>\n",
       "      <td>-0.512075</td>\n",
       "      <td>0.394241</td>\n",
       "      <td>-0.407783</td>\n",
       "      <td>-0.388685</td>\n",
       "      <td>-0.394962</td>\n",
       "      <td>-0.399239</td>\n",
       "      <td>-0.395075</td>\n",
       "    </tr>\n",
       "    <tr>\n",
       "      <th>905</th>\n",
       "      <td>-0.417498</td>\n",
       "      <td>0.518793</td>\n",
       "      <td>-0.772866</td>\n",
       "      <td>0.661679</td>\n",
       "      <td>0.339596</td>\n",
       "      <td>0.394241</td>\n",
       "      <td>-0.340967</td>\n",
       "      <td>-0.332867</td>\n",
       "      <td>-0.328925</td>\n",
       "      <td>-0.329901</td>\n",
       "      <td>-0.331681</td>\n",
       "    </tr>\n",
       "    <tr>\n",
       "      <th>906</th>\n",
       "      <td>-0.525169</td>\n",
       "      <td>-1.853834</td>\n",
       "      <td>0.002473</td>\n",
       "      <td>0.661679</td>\n",
       "      <td>-0.512075</td>\n",
       "      <td>0.394241</td>\n",
       "      <td>-0.407783</td>\n",
       "      <td>-0.388685</td>\n",
       "      <td>-0.394962</td>\n",
       "      <td>-0.399239</td>\n",
       "      <td>-0.395075</td>\n",
       "    </tr>\n",
       "  </tbody>\n",
       "</table>\n",
       "<p>907 rows × 11 columns</p>\n",
       "</div>"
      ],
      "text/plain": [
       "     capacity_mw  latitude  longitude  commissioning_year    source  \\\n",
       "0      -0.548908  1.149805  -0.878280            0.407327  1.460215   \n",
       "1      -0.386977  0.587311  -0.593788            0.661679  2.917019   \n",
       "2      -0.486679  0.116179  -1.682394            0.661679 -0.512075   \n",
       "3      -0.324240  0.439989   2.889052           -0.037788 -0.489662   \n",
       "4       2.498942  0.125479   1.027976            0.661679 -0.489662   \n",
       "..           ...       ...        ...                 ...       ...   \n",
       "902     2.159821 -0.806975  -0.022477            0.725267 -0.489662   \n",
       "903    -0.548060 -1.366853   0.145644            0.661679  0.743019   \n",
       "904    -0.509909 -0.974707  -0.391673            0.661679 -0.512075   \n",
       "905    -0.417498  0.518793  -0.772866            0.661679  0.339596   \n",
       "906    -0.525169 -1.853834   0.002473            0.661679 -0.512075   \n",
       "\n",
       "     geolocation_source  generation_gwh_2014  generation_gwh_2015  \\\n",
       "0             -1.083349            -0.407783            -0.388685   \n",
       "1              0.394241            -0.303199            -0.338753   \n",
       "2              0.394241            -0.384536            -0.356870   \n",
       "3              0.394241            -0.203542            -0.122313   \n",
       "4              0.394241             0.618085             1.504758   \n",
       "..                  ...                  ...                  ...   \n",
       "902            0.394241             0.841002            -0.392630   \n",
       "903           -2.560940            -0.407783            -0.388685   \n",
       "904            0.394241            -0.407783            -0.388685   \n",
       "905            0.394241            -0.340967            -0.332867   \n",
       "906            0.394241            -0.407783            -0.388685   \n",
       "\n",
       "     generation_gwh_2016  generation_gwh_2017  generation_gwh_2018  \n",
       "0              -0.394962            -0.399239            -0.395075  \n",
       "1              -0.317101            -0.340211            -0.318779  \n",
       "2              -0.361220            -0.347875            -0.349436  \n",
       "3              -0.115372            -0.197893            -0.219380  \n",
       "4               1.592397             1.284064             1.801917  \n",
       "..                   ...                  ...                  ...  \n",
       "902            -0.323355            -0.134612            -0.201071  \n",
       "903            -0.394962            -0.399239            -0.395075  \n",
       "904            -0.394962            -0.399239            -0.395075  \n",
       "905            -0.328925            -0.329901            -0.331681  \n",
       "906            -0.394962            -0.399239            -0.395075  \n",
       "\n",
       "[907 rows x 11 columns]"
      ]
     },
     "execution_count": 98,
     "metadata": {},
     "output_type": "execute_result"
    }
   ],
   "source": [
    "from sklearn.preprocessing import StandardScaler\n",
    "\n",
    "scaler = StandardScaler()\n",
    "cl_x= pd.DataFrame(scaler.fit_transform(cl_x), columns=cl_x.columns)\n",
    "cl_x"
   ]
  },
  {
   "cell_type": "code",
   "execution_count": 99,
   "id": "02486d3d",
   "metadata": {},
   "outputs": [
    {
     "data": {
      "text/html": [
       "<div>\n",
       "<style scoped>\n",
       "    .dataframe tbody tr th:only-of-type {\n",
       "        vertical-align: middle;\n",
       "    }\n",
       "\n",
       "    .dataframe tbody tr th {\n",
       "        vertical-align: top;\n",
       "    }\n",
       "\n",
       "    .dataframe thead th {\n",
       "        text-align: right;\n",
       "    }\n",
       "</style>\n",
       "<table border=\"1\" class=\"dataframe\">\n",
       "  <thead>\n",
       "    <tr style=\"text-align: right;\">\n",
       "      <th></th>\n",
       "      <th>VIF values</th>\n",
       "      <th>Features</th>\n",
       "    </tr>\n",
       "  </thead>\n",
       "  <tbody>\n",
       "    <tr>\n",
       "      <th>0</th>\n",
       "      <td>6.548360</td>\n",
       "      <td>capacity_mw</td>\n",
       "    </tr>\n",
       "    <tr>\n",
       "      <th>1</th>\n",
       "      <td>1.053441</td>\n",
       "      <td>latitude</td>\n",
       "    </tr>\n",
       "    <tr>\n",
       "      <th>2</th>\n",
       "      <td>1.133600</td>\n",
       "      <td>longitude</td>\n",
       "    </tr>\n",
       "    <tr>\n",
       "      <th>3</th>\n",
       "      <td>1.174311</td>\n",
       "      <td>commissioning_year</td>\n",
       "    </tr>\n",
       "    <tr>\n",
       "      <th>4</th>\n",
       "      <td>1.488444</td>\n",
       "      <td>source</td>\n",
       "    </tr>\n",
       "    <tr>\n",
       "      <th>5</th>\n",
       "      <td>1.465906</td>\n",
       "      <td>geolocation_source</td>\n",
       "    </tr>\n",
       "    <tr>\n",
       "      <th>6</th>\n",
       "      <td>13.219376</td>\n",
       "      <td>generation_gwh_2014</td>\n",
       "    </tr>\n",
       "    <tr>\n",
       "      <th>7</th>\n",
       "      <td>30.655864</td>\n",
       "      <td>generation_gwh_2015</td>\n",
       "    </tr>\n",
       "    <tr>\n",
       "      <th>8</th>\n",
       "      <td>40.801104</td>\n",
       "      <td>generation_gwh_2016</td>\n",
       "    </tr>\n",
       "    <tr>\n",
       "      <th>9</th>\n",
       "      <td>55.956842</td>\n",
       "      <td>generation_gwh_2017</td>\n",
       "    </tr>\n",
       "    <tr>\n",
       "      <th>10</th>\n",
       "      <td>47.709707</td>\n",
       "      <td>generation_gwh_2018</td>\n",
       "    </tr>\n",
       "  </tbody>\n",
       "</table>\n",
       "</div>"
      ],
      "text/plain": [
       "    VIF values             Features\n",
       "0     6.548360          capacity_mw\n",
       "1     1.053441             latitude\n",
       "2     1.133600            longitude\n",
       "3     1.174311   commissioning_year\n",
       "4     1.488444               source\n",
       "5     1.465906   geolocation_source\n",
       "6    13.219376  generation_gwh_2014\n",
       "7    30.655864  generation_gwh_2015\n",
       "8    40.801104  generation_gwh_2016\n",
       "9    55.956842  generation_gwh_2017\n",
       "10   47.709707  generation_gwh_2018"
      ]
     },
     "execution_count": 99,
     "metadata": {},
     "output_type": "execute_result"
    }
   ],
   "source": [
    "#Finding varience inflation factor in each scaled column i.e, x.shape[1] (1/(1-R2))\n",
    "\n",
    "from statsmodels.stats.outliers_influence import variance_inflation_factor\n",
    "vif = pd.DataFrame()\n",
    "vif[\"VIF values\"] = [variance_inflation_factor(cl_x.values,i)\n",
    "              for i in range(len(cl_x.columns))]\n",
    "vif[\"Features\"] = cl_x.columns\n",
    "\n",
    "# Let's check the values\n",
    "vif"
   ]
  },
  {
   "cell_type": "code",
   "execution_count": 100,
   "id": "cfa2ba9e",
   "metadata": {},
   "outputs": [
    {
     "data": {
      "text/plain": [
       "6    258\n",
       "1    258\n",
       "7    258\n",
       "2    258\n",
       "3    258\n",
       "0    258\n",
       "5    258\n",
       "4    258\n",
       "Name: Fuel_Type, dtype: int64"
      ]
     },
     "execution_count": 100,
     "metadata": {},
     "output_type": "execute_result"
    }
   ],
   "source": [
    "# Oversampling the data\n",
    "from imblearn.over_sampling import SMOTE\n",
    "SM = SMOTE()\n",
    "cl_x, cl_y = SM.fit_resample(cl_x,cl_y)\n",
    "cl_y.value_counts()"
   ]
  },
  {
   "cell_type": "code",
   "execution_count": 101,
   "id": "253fb869",
   "metadata": {},
   "outputs": [
    {
     "name": "stdout",
     "output_type": "stream",
     "text": [
      "Best accuracy is  0.9186046511627907  on Random_state  97\n"
     ]
    }
   ],
   "source": [
    "#Finding best random state\n",
    "from sklearn.tree import DecisionTreeClassifier\n",
    "from sklearn.model_selection import train_test_split\n",
    "from sklearn.metrics import accuracy_score\n",
    "maxAccu=0\n",
    "maxRS=0\n",
    "for i in range(1,200):\n",
    "    clx_train,clx_test,cly_train,cly_test = train_test_split(cl_x,cl_y,test_size=.25, random_state =i)\n",
    "    DTC = DecisionTreeClassifier()\n",
    "    DTC.fit(clx_train, cly_train)\n",
    "    pred = DTC.predict(clx_test)\n",
    "    acc=accuracy_score(cly_test, pred)\n",
    "    if acc>maxAccu:\n",
    "        maxAccu=acc\n",
    "        maxRS=i\n",
    "print(\"Best accuracy is \",maxAccu,\" on Random_state \",maxRS)"
   ]
  },
  {
   "cell_type": "code",
   "execution_count": 102,
   "id": "49bdd17e",
   "metadata": {},
   "outputs": [],
   "source": [
    "clx_train,clx_test,cly_train,cly_test = train_test_split(cl_x,cl_y,test_size=.30, random_state =maxRS)\n"
   ]
  },
  {
   "cell_type": "code",
   "execution_count": 103,
   "id": "308de4c0",
   "metadata": {},
   "outputs": [],
   "source": [
    "from sklearn.tree import DecisionTreeClassifier\n",
    "from sklearn.ensemble import RandomForestClassifier\n",
    "from sklearn.svm import SVC\n",
    "from sklearn.neighbors import KNeighborsClassifier as KNN\n",
    "from sklearn.ensemble import GradientBoostingClassifier, BaggingClassifier\n",
    "from sklearn.metrics import classification_report, confusion_matrix, roc_curve, accuracy_score\n",
    "from sklearn.model_selection import cross_val_score"
   ]
  },
  {
   "cell_type": "code",
   "execution_count": 104,
   "id": "c219703b",
   "metadata": {},
   "outputs": [
    {
     "name": "stdout",
     "output_type": "stream",
     "text": [
      "0.9112903225806451\n",
      "[[67  1  0  0  0  0  0  0]\n",
      " [ 5 57  4  6  3  2  0  0]\n",
      " [ 0  3 75  7  0  1  0  0]\n",
      " [ 0  7  7 55  2  0  0  0]\n",
      " [ 0  0  0  1 62  0  0  0]\n",
      " [ 1  0  3  0  0 84  0  1]\n",
      " [ 0  1  0  0  0  0 83  0]\n",
      " [ 0  0  0  0  0  0  0 82]]\n",
      "              precision    recall  f1-score   support\n",
      "\n",
      "           0       0.92      0.99      0.95        68\n",
      "           1       0.83      0.74      0.78        77\n",
      "           2       0.84      0.87      0.86        86\n",
      "           3       0.80      0.77      0.79        71\n",
      "           4       0.93      0.98      0.95        63\n",
      "           5       0.97      0.94      0.95        89\n",
      "           6       1.00      0.99      0.99        84\n",
      "           7       0.99      1.00      0.99        82\n",
      "\n",
      "    accuracy                           0.91       620\n",
      "   macro avg       0.91      0.91      0.91       620\n",
      "weighted avg       0.91      0.91      0.91       620\n",
      "\n",
      "0.8895401866522485\n"
     ]
    }
   ],
   "source": [
    "# Checking Accuracy for Decision Tree Classifier\n",
    "DTC = DecisionTreeClassifier()\n",
    "DTC.fit(clx_train,cly_train)\n",
    "\n",
    "#Prediction\n",
    "pred = DTC.predict(clx_test)\n",
    "#Accuracy\n",
    "print(accuracy_score(cly_test, pred))\n",
    "print(confusion_matrix(cly_test, pred))\n",
    "print(classification_report(cly_test,pred))\n",
    "#Cross Validation\n",
    "# cv score for Decision Tree Classifier\n",
    "print(cross_val_score(DTC,cl_x,cl_y,cv=5).mean())"
   ]
  },
  {
   "cell_type": "code",
   "execution_count": 105,
   "id": "c1f1ab12",
   "metadata": {},
   "outputs": [
    {
     "name": "stdout",
     "output_type": "stream",
     "text": [
      "91.12903225806451\n",
      "[[65  3  0  0  0  0  0  0]\n",
      " [ 8 58  3  3  5  0  0  0]\n",
      " [ 0  4 73  2  0  7  0  0]\n",
      " [ 0  6  7 56  1  1  0  0]\n",
      " [ 0  0  0  1 62  0  0  0]\n",
      " [ 1  0  0  0  0 88  0  0]\n",
      " [ 0  1  0  0  0  2 81  0]\n",
      " [ 0  0  0  0  0  0  0 82]]\n",
      "              precision    recall  f1-score   support\n",
      "\n",
      "           0       0.88      0.96      0.92        68\n",
      "           1       0.81      0.75      0.78        77\n",
      "           2       0.88      0.85      0.86        86\n",
      "           3       0.90      0.79      0.84        71\n",
      "           4       0.91      0.98      0.95        63\n",
      "           5       0.90      0.99      0.94        89\n",
      "           6       1.00      0.96      0.98        84\n",
      "           7       1.00      1.00      1.00        82\n",
      "\n",
      "    accuracy                           0.91       620\n",
      "   macro avg       0.91      0.91      0.91       620\n",
      "weighted avg       0.91      0.91      0.91       620\n",
      "\n",
      "Corross Validation Score 91.86111568207998\n"
     ]
    }
   ],
   "source": [
    "RFC = RandomForestClassifier()\n",
    "RFC.fit(clx_train,cly_train)\n",
    "\n",
    "#Prediction\n",
    "pred = RFC.predict(clx_test)\n",
    "#Accuracy\n",
    "print(accuracy_score(cly_test, pred)*100)\n",
    "print(confusion_matrix(cly_test, pred))\n",
    "print(classification_report(cly_test,pred))\n",
    "#Cross Validation\n",
    "# cv score for Decision Tree Classifier\n",
    "print(\"Corross Validation Score\",cross_val_score(RFC,cl_x,cl_y,cv=5).mean()*100)"
   ]
  },
  {
   "cell_type": "code",
   "execution_count": 106,
   "id": "5b2e1fab",
   "metadata": {},
   "outputs": [
    {
     "name": "stdout",
     "output_type": "stream",
     "text": [
      "80.48387096774194\n",
      "[[62  1  0  0  0  0  0  5]\n",
      " [ 7 48  2  4  7  4  0  5]\n",
      " [ 3  2 57 12  0 11  0  1]\n",
      " [ 0  6  9 39  0 16  0  1]\n",
      " [ 0  0  0  2 61  0  0  0]\n",
      " [ 3  0  1  6  0 72  0  7]\n",
      " [ 5  1  0  0  0  0 78  0]\n",
      " [ 0  0  0  0  0  0  0 82]]\n",
      "              precision    recall  f1-score   support\n",
      "\n",
      "           0       0.78      0.91      0.84        68\n",
      "           1       0.83      0.62      0.71        77\n",
      "           2       0.83      0.66      0.74        86\n",
      "           3       0.62      0.55      0.58        71\n",
      "           4       0.90      0.97      0.93        63\n",
      "           5       0.70      0.81      0.75        89\n",
      "           6       1.00      0.93      0.96        84\n",
      "           7       0.81      1.00      0.90        82\n",
      "\n",
      "    accuracy                           0.80       620\n",
      "   macro avg       0.81      0.81      0.80       620\n",
      "weighted avg       0.81      0.80      0.80       620\n",
      "\n",
      "Corross Validation Score 81.4928653706011\n"
     ]
    }
   ],
   "source": [
    "SVM = SVC()\n",
    "SVM.fit(clx_train,cly_train)\n",
    "\n",
    "#Prediction\n",
    "pred = SVM.predict(clx_test)\n",
    "#Accuracy\n",
    "print(accuracy_score(cly_test, pred)*100)\n",
    "print(confusion_matrix(cly_test, pred))\n",
    "print(classification_report(cly_test,pred))\n",
    "#Cross Validation\n",
    "# cv score for Decision Tree Classifier\n",
    "print(\"Corross Validation Score\",cross_val_score(SVM,cl_x,cl_y,cv=5).mean()*100)"
   ]
  },
  {
   "cell_type": "code",
   "execution_count": 107,
   "id": "9ab7cdd6",
   "metadata": {},
   "outputs": [
    {
     "name": "stdout",
     "output_type": "stream",
     "text": [
      "87.90322580645162\n",
      "[[65  0  0  0  0  1  0  2]\n",
      " [ 7 44  6  2 10  4  1  3]\n",
      " [ 1  2 72  1  1  8  1  0]\n",
      " [ 0  4  6 53  4  3  0  1]\n",
      " [ 0  0  0  0 63  0  0  0]\n",
      " [ 0  0  0  6  0 82  0  1]\n",
      " [ 0  0  0  0  0  0 84  0]\n",
      " [ 0  0  0  0  0  0  0 82]]\n",
      "              precision    recall  f1-score   support\n",
      "\n",
      "           0       0.89      0.96      0.92        68\n",
      "           1       0.88      0.57      0.69        77\n",
      "           2       0.86      0.84      0.85        86\n",
      "           3       0.85      0.75      0.80        71\n",
      "           4       0.81      1.00      0.89        63\n",
      "           5       0.84      0.92      0.88        89\n",
      "           6       0.98      1.00      0.99        84\n",
      "           7       0.92      1.00      0.96        82\n",
      "\n",
      "    accuracy                           0.88       620\n",
      "   macro avg       0.88      0.88      0.87       620\n",
      "weighted avg       0.88      0.88      0.87       620\n",
      "\n",
      "Corross Validation Score 89.14772326570912\n"
     ]
    }
   ],
   "source": [
    "knn = KNN()\n",
    "knn.fit(clx_train,cly_train)\n",
    "\n",
    "#Prediction\n",
    "pred = knn.predict(clx_test)\n",
    "#Accuracy\n",
    "print(accuracy_score(cly_test, pred)*100)\n",
    "print(confusion_matrix(cly_test, pred))\n",
    "print(classification_report(cly_test,pred))\n",
    "#Cross Validation\n",
    "# cv score for Decision Tree Classifier\n",
    "print(\"Corross Validation Score\",cross_val_score(knn,cl_x,cl_y,cv=5).mean()*100)"
   ]
  },
  {
   "cell_type": "code",
   "execution_count": 108,
   "id": "6ba296ef",
   "metadata": {},
   "outputs": [
    {
     "name": "stdout",
     "output_type": "stream",
     "text": [
      "92.74193548387096\n",
      "[[68  0  0  0  0  0  0  0]\n",
      " [ 7 59  3  2  2  4  0  0]\n",
      " [ 0  2 81  0  0  3  0  0]\n",
      " [ 0  6  8 55  2  0  0  0]\n",
      " [ 0  1  0  0 62  0  0  0]\n",
      " [ 0  1  2  0  0 85  0  1]\n",
      " [ 0  1  0  0  0  0 83  0]\n",
      " [ 0  0  0  0  0  0  0 82]]\n",
      "              precision    recall  f1-score   support\n",
      "\n",
      "           0       0.91      1.00      0.95        68\n",
      "           1       0.84      0.77      0.80        77\n",
      "           2       0.86      0.94      0.90        86\n",
      "           3       0.96      0.77      0.86        71\n",
      "           4       0.94      0.98      0.96        63\n",
      "           5       0.92      0.96      0.94        89\n",
      "           6       1.00      0.99      0.99        84\n",
      "           7       0.99      1.00      0.99        82\n",
      "\n",
      "    accuracy                           0.93       620\n",
      "   macro avg       0.93      0.93      0.93       620\n",
      "weighted avg       0.93      0.93      0.93       620\n",
      "\n",
      "Corross Validation Score 91.90954183220103\n"
     ]
    }
   ],
   "source": [
    "BC= BaggingClassifier()\n",
    "BC.fit(clx_train,cly_train)\n",
    "\n",
    "#Prediction\n",
    "pred = BC.predict(clx_test)\n",
    "#Accuracy\n",
    "print(accuracy_score(cly_test, pred)*100)\n",
    "print(confusion_matrix(cly_test, pred))\n",
    "print(classification_report(cly_test,pred))\n",
    "#Cross Validation\n",
    "# cv score for Decision Tree Classifier\n",
    "print(\"Corross Validation Score\",cross_val_score(BC,cl_x,cl_y,cv=5).mean()*100)"
   ]
  },
  {
   "cell_type": "code",
   "execution_count": 109,
   "id": "4411a327",
   "metadata": {},
   "outputs": [
    {
     "name": "stdout",
     "output_type": "stream",
     "text": [
      "90.80645161290323\n",
      "[[67  1  0  0  0  0  0  0]\n",
      " [ 7 56  3  5  6  0  0  0]\n",
      " [ 0  4 74  1  0  7  0  0]\n",
      " [ 0  6  7 56  2  0  0  0]\n",
      " [ 0  0  0  2 61  0  0  0]\n",
      " [ 0  1  2  1  0 84  0  1]\n",
      " [ 0  1  0  0  0  0 83  0]\n",
      " [ 0  0  0  0  0  0  0 82]]\n",
      "              precision    recall  f1-score   support\n",
      "\n",
      "           0       0.91      0.99      0.94        68\n",
      "           1       0.81      0.73      0.77        77\n",
      "           2       0.86      0.86      0.86        86\n",
      "           3       0.86      0.79      0.82        71\n",
      "           4       0.88      0.97      0.92        63\n",
      "           5       0.92      0.94      0.93        89\n",
      "           6       1.00      0.99      0.99        84\n",
      "           7       0.99      1.00      0.99        82\n",
      "\n",
      "    accuracy                           0.91       620\n",
      "   macro avg       0.90      0.91      0.91       620\n",
      "weighted avg       0.91      0.91      0.91       620\n",
      "\n",
      "Corross Validation Score 92.78109499518091\n"
     ]
    }
   ],
   "source": [
    "GBC = GradientBoostingClassifier()\n",
    "GBC.fit(clx_train,cly_train)\n",
    "\n",
    "#Prediction\n",
    "pred = GBC.predict(clx_test)\n",
    "#Accuracy\n",
    "print(accuracy_score(cly_test, pred)*100)\n",
    "print(confusion_matrix(cly_test, pred))\n",
    "print(classification_report(cly_test,pred))\n",
    "#Cross Validation\n",
    "# cv score for Decision Tree Classifier\n",
    "print(\"Corross Validation Score\",cross_val_score(GBC,cl_x,cl_y,cv=5).mean()*100)"
   ]
  },
  {
   "cell_type": "code",
   "execution_count": 110,
   "id": "f6f9e183",
   "metadata": {},
   "outputs": [],
   "source": [
    "parameters={'loss' : ['log_loss', 'deviance', 'exponential'],\n",
    "           'n_estimators':[1,20,50,100],\n",
    "           'learning_rate':[0.1,.2,.4,.5],\n",
    "           'criterion' : ['friedman_mse', 'squared_error', 'mse'], \n",
    "           }\n",
    "GVC=GridSearchCV(GradientBoostingClassifier(),parameters,cv=10)"
   ]
  },
  {
   "cell_type": "code",
   "execution_count": 111,
   "id": "dd3653a6",
   "metadata": {},
   "outputs": [
    {
     "data": {
      "text/plain": [
       "GridSearchCV(cv=10, estimator=GradientBoostingClassifier(),\n",
       "             param_grid={'criterion': ['friedman_mse', 'squared_error', 'mse'],\n",
       "                         'learning_rate': [0.1, 0.2, 0.4, 0.5],\n",
       "                         'loss': ['log_loss', 'deviance', 'exponential'],\n",
       "                         'n_estimators': [1, 20, 50, 100]})"
      ]
     },
     "execution_count": 111,
     "metadata": {},
     "output_type": "execute_result"
    }
   ],
   "source": [
    "GVC.fit(clx_train,cly_train)\n"
   ]
  },
  {
   "cell_type": "code",
   "execution_count": 112,
   "id": "6e8ba06b",
   "metadata": {},
   "outputs": [
    {
     "data": {
      "text/plain": [
       "{'criterion': 'mse',\n",
       " 'learning_rate': 0.5,\n",
       " 'loss': 'deviance',\n",
       " 'n_estimators': 100}"
      ]
     },
     "execution_count": 112,
     "metadata": {},
     "output_type": "execute_result"
    }
   ],
   "source": [
    "GVC.best_params_\n"
   ]
  },
  {
   "cell_type": "code",
   "execution_count": 117,
   "id": "30918a3a",
   "metadata": {},
   "outputs": [],
   "source": [
    "#initialising GradientBoost with best parameter\n",
    "Fuel_Model=GradientBoostingClassifier(criterion= 'mse',learning_rate= 0.5,loss= 'deviance',n_estimators=100)"
   ]
  },
  {
   "cell_type": "code",
   "execution_count": 118,
   "id": "62041cd8",
   "metadata": {},
   "outputs": [
    {
     "name": "stdout",
     "output_type": "stream",
     "text": [
      "Accuracy Score 91.61290322580645\n"
     ]
    }
   ],
   "source": [
    "Fuel_Model.fit(clx_train, cly_train)\n",
    "pred = Fuel_Model.predict(clx_test)\n",
    "acc=accuracy_score(cly_test,pred)\n",
    "print(\"Accuracy Score\",acc*100)"
   ]
  },
  {
   "cell_type": "code",
   "execution_count": 119,
   "id": "947d04f6",
   "metadata": {},
   "outputs": [
    {
     "data": {
      "text/plain": [
       "['Global_Power_Plant_Fuel_Type.pkl']"
      ]
     },
     "execution_count": 119,
     "metadata": {},
     "output_type": "execute_result"
    }
   ],
   "source": [
    "# Saving the model using .pkl\n",
    "\n",
    "import joblib\n",
    "joblib.dump(Fuel_Model,\"Global_Power_Plant_Fuel_Type.pkl\")"
   ]
  },
  {
   "cell_type": "code",
   "execution_count": 120,
   "id": "f607be3f",
   "metadata": {},
   "outputs": [
    {
     "data": {
      "text/plain": [
       "array([2, 4, 4, 6, 6, 3, 3, 6, 6, 6, 7, 1, 4, 7, 3, 6, 5, 6, 4, 7, 7, 5,\n",
       "       0, 6, 0, 7, 1, 6, 6, 0, 2, 4, 6, 6, 5, 5, 2, 2, 4, 4, 2, 6, 1, 0,\n",
       "       6, 2, 5, 6, 5, 7, 4, 0, 6, 6, 4, 0, 6, 6, 3, 0, 5, 5, 0, 7, 5, 3,\n",
       "       2, 1, 5, 3, 4, 6, 5, 6, 2, 2, 3, 2, 6, 0, 5, 7, 7, 2, 3, 5, 1, 1,\n",
       "       1, 2, 0, 7, 2, 7, 4, 2, 2, 2, 7, 6, 1, 6, 6, 3, 5, 7, 7, 6, 4, 7,\n",
       "       6, 7, 0, 5, 5, 3, 0, 7, 6, 4, 3, 6, 6, 0, 6, 0, 2, 7, 2, 5, 5, 5,\n",
       "       1, 1, 5, 0, 4, 6, 6, 4, 0, 7, 4, 4, 5, 3, 7, 3, 1, 2, 0, 7, 2, 5,\n",
       "       0, 5, 3, 3, 3, 2, 3, 5, 6, 1, 4, 1, 1, 4, 5, 0, 3, 2, 4, 7, 1, 1,\n",
       "       4, 3, 4, 2, 1, 2, 5, 6, 4, 5, 5, 2, 0, 7, 7, 0, 0, 5, 1, 3, 3, 0,\n",
       "       3, 5, 5, 0, 5, 2, 0, 3, 7, 4, 0, 6, 7, 5, 5, 5, 5, 0, 0, 7, 0, 3,\n",
       "       3, 5, 7, 5, 1, 1, 7, 2, 6, 2, 4, 5, 5, 5, 2, 0, 1, 2, 1, 6, 0, 2,\n",
       "       1, 3, 2, 5, 0, 4, 3, 3, 6, 1, 0, 7, 5, 6, 2, 7, 1, 5, 5, 7, 1, 2,\n",
       "       6, 2, 5, 0, 0, 5, 5, 0, 4, 7, 6, 6, 7, 5, 4, 1, 5, 1, 5, 4, 3, 7,\n",
       "       1, 6, 5, 2, 1, 3, 2, 7, 7, 7, 1, 2, 0, 7, 0, 5, 4, 5, 2, 6, 3, 7,\n",
       "       7, 0, 6, 4, 6, 5, 5, 6, 4, 2, 4, 6, 4, 1, 7, 1, 7, 7, 3, 2, 1, 2,\n",
       "       4, 2, 2, 6, 2, 2, 4, 0, 0, 5, 3, 7, 5, 0, 2, 1, 6, 5, 3, 0, 0, 2,\n",
       "       2, 7, 2, 5, 5, 1, 7, 7, 4, 1, 3, 1, 4, 7, 7, 1, 7, 0, 2, 3, 5, 7,\n",
       "       6, 7, 3, 4, 4, 0, 1, 0, 4, 7, 4, 3, 1, 4, 2, 7, 0, 5, 4, 6, 2, 0,\n",
       "       1, 4, 4, 7, 3, 6, 1, 6, 0, 1, 3, 1, 6, 2, 7, 0, 7, 3, 6, 6, 5, 3,\n",
       "       4, 7, 4, 6, 6, 7, 1, 7, 0, 7, 3, 5, 2, 6, 2, 7, 4, 7, 6, 7, 0, 5,\n",
       "       2, 1, 3, 0, 3, 1, 7, 1, 7, 6, 6, 3, 1, 1, 6, 1, 0, 5, 5, 4, 2, 1,\n",
       "       7, 6, 6, 0, 0, 4, 2, 2, 7, 3, 4, 2, 2, 5, 2, 1, 1, 3, 7, 1, 0, 1,\n",
       "       1, 0, 4, 3, 4, 7, 3, 6, 0, 0, 0, 7, 2, 3, 6, 2, 0, 7, 3, 2, 2, 6,\n",
       "       6, 1, 7, 5, 3, 6, 6, 2, 0, 4, 4, 1, 2, 1, 2, 3, 5, 5, 1, 4, 5, 0,\n",
       "       2, 4, 1, 0, 4, 5, 3, 7, 4, 1, 6, 2, 4, 7, 2, 7, 4, 0, 4, 2, 5, 0,\n",
       "       3, 3, 3, 2, 1, 2, 7, 6, 6, 2, 5, 6, 4, 2, 6, 6, 1, 0, 6, 0, 2, 5,\n",
       "       5, 2, 2, 2, 2, 1, 6, 7, 2, 2, 3, 3, 6, 4, 1, 2, 6, 7, 1, 2, 1, 3,\n",
       "       2, 4, 6, 2, 5, 2, 5, 7, 4, 5, 4, 2, 7, 5, 3, 1, 5, 0, 2, 1, 0, 5,\n",
       "       5, 7, 5, 5])"
      ]
     },
     "execution_count": 120,
     "metadata": {},
     "output_type": "execute_result"
    }
   ],
   "source": [
    "# Let's load the saved model and get the prediction\n",
    "\n",
    "# Loading the saved model\n",
    "model=joblib.load(\"Global_Power_Plant_Fuel_Type.pkl\")\n",
    "\n",
    "#Prediction\n",
    "prediction = model.predict(clx_test)\n",
    "prediction"
   ]
  },
  {
   "cell_type": "code",
   "execution_count": 121,
   "id": "9009adb5",
   "metadata": {},
   "outputs": [
    {
     "data": {
      "image/png": "[encoded data removed]",
      "text/plain": [
       "<Figure size 576x576 with 1 Axes>"
      ]
     },
     "metadata": {
      "needs_background": "light"
     },
     "output_type": "display_data"
    }
   ],
   "source": [
    "plt.figure(figsize=(8,8))\n",
    "sns.regplot(cly_test,prediction,color='r')\n",
    "plt.xlabel('Actual ',fontsize=15)\n",
    "plt.ylabel('Predicted',fontsize=15)\n",
    "plt.title(\"Gradient Boost Classifier\")\n",
    "plt.show()"
   ]
  },
  {
   "cell_type": "markdown",
   "id": "d48f1701",
   "metadata": {},
   "source": [
    "The accuracy score is 91.61% for our model "
   ]
  },
  {
   "cell_type": "code",
   "execution_count": null,
   "id": "2f96b230",
   "metadata": {},
   "outputs": [],
   "source": []
  }
 ],
 "metadata": {
  "kernelspec": {
   "display_name": "Python 3 (ipykernel)",
   "language": "python",
   "name": "python3"
  },
  "language_info": {
   "codemirror_mode": {
    "name": "ipython",
    "version": 3
   },
   "file_extension": ".py",
   "mimetype": "text/x-python",
   "name": "python",
   "nbconvert_exporter": "python",
   "pygments_lexer": "ipython3",
   "version": "3.9.12"
  }
 },
 "nbformat": 4,
 "nbformat_minor": 5
}
